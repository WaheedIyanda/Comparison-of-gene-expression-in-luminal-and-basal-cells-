{
  "nbformat": 4,
  "nbformat_minor": 0,
  "metadata": {
    "colab": {
      "provenance": []
    },
    "kernelspec": {
      "name": "python3",
      "display_name": "Python 3"
    },
    "language_info": {
      "name": "python"
    }
  },
  "cells": [
    {
      "cell_type": "markdown",
      "source": [],
      "metadata": {
        "id": "_Wm32_lwVvgX"
      }
    },
    {
      "cell_type": "markdown",
      "source": [
        "To identify genes specifically expressed in lactating mammary glands, the gene expression profiles of luminal and basal cells from different developmental stages were compared."
      ],
      "metadata": {
        "id": "oir-1VocWJM_"
      }
    },
    {
      "cell_type": "markdown",
      "source": [
        "\n",
        "GSM1480291\tLuminal virgin #1\n",
        "GSM1480292\tLuminal virgin #2\n",
        "GSM1480293\tLuminal 18.5 dP #1\n",
        "GSM1480294\tLuminal 18.5 dP #2\n",
        "GSM1480295\tLuminal 2 dL #1\n",
        "GSM1480296\tLuminal 2 dL #2\n",
        "GSM1480297\tBasal virgin #1\n",
        "GSM1480298\tBasal virgin #2\n",
        "GSM1480299\tBasal 18.5 dP #1\n",
        "GSM1480300\tBasal 18.5 dP #2\n",
        "GSM1480301\tBasal 2 dL #1\n",
        "GSM1480302\tBasal 2 dL #2"
      ],
      "metadata": {
        "id": "cGGRl32DjUOa"
      }
    },
    {
      "cell_type": "markdown",
      "source": [
        "#importing of necessary package"
      ],
      "metadata": {
        "id": "rlYwChUiWLfM"
      }
    },
    {
      "cell_type": "code",
      "execution_count": 1,
      "metadata": {
        "id": "NG-qAx4SVZfV"
      },
      "outputs": [],
      "source": [
        "import pandas as pd\n",
        "import numpy as np\n",
        "import seaborn as sns\n",
        "import matplotlib.pyplot as plt"
      ]
    },
    {
      "cell_type": "code",
      "source": [
        "!pip install biopython\n",
        "import Bio  # Import the Biopython library\n",
        "from Bio import SeqIO  # Import the SeqIO module for sequence manipulation\n",
        "from Bio import AlignIO"
      ],
      "metadata": {
        "colab": {
          "base_uri": "https://localhost:8080/"
        },
        "id": "RPtwvf8QZmlR",
        "outputId": "1086e43a-aaa1-4130-de19-041be6fedff7"
      },
      "execution_count": 2,
      "outputs": [
        {
          "output_type": "stream",
          "name": "stdout",
          "text": [
            "Collecting biopython\n",
            "  Downloading biopython-1.83-cp310-cp310-manylinux_2_17_x86_64.manylinux2014_x86_64.whl (3.1 MB)\n",
            "\u001b[2K     \u001b[90m━━━━━━━━━━━━━━━━━━━━━━━━━━━━━━━━━━━━━━━━\u001b[0m \u001b[32m3.1/3.1 MB\u001b[0m \u001b[31m8.4 MB/s\u001b[0m eta \u001b[36m0:00:00\u001b[0m\n",
            "\u001b[?25hRequirement already satisfied: numpy in /usr/local/lib/python3.10/dist-packages (from biopython) (1.23.5)\n",
            "Installing collected packages: biopython\n",
            "Successfully installed biopython-1.83\n"
          ]
        }
      ]
    },
    {
      "cell_type": "code",
      "source": [
        "!pip install scikit-bio\n",
        "import skbio"
      ],
      "metadata": {
        "colab": {
          "base_uri": "https://localhost:8080/"
        },
        "id": "5syKRPV4aCEp",
        "outputId": "7a7f540e-bce2-4cd9-b394-c1d798b92015"
      },
      "execution_count": 3,
      "outputs": [
        {
          "output_type": "stream",
          "name": "stdout",
          "text": [
            "Collecting scikit-bio\n",
            "  Downloading scikit-bio-0.5.9.tar.gz (3.5 MB)\n",
            "\u001b[2K     \u001b[90m━━━━━━━━━━━━━━━━━━━━━━━━━━━━━━━━━━━━━━━━\u001b[0m \u001b[32m3.5/3.5 MB\u001b[0m \u001b[31m15.4 MB/s\u001b[0m eta \u001b[36m0:00:00\u001b[0m\n",
            "\u001b[?25h  Installing build dependencies ... \u001b[?25l\u001b[?25hdone\n",
            "  Getting requirements to build wheel ... \u001b[?25l\u001b[?25hdone\n",
            "  Preparing metadata (pyproject.toml) ... \u001b[?25l\u001b[?25hdone\n",
            "Requirement already satisfied: requests>=2.20.0 in /usr/local/lib/python3.10/dist-packages (from scikit-bio) (2.31.0)\n",
            "Requirement already satisfied: decorator>=3.4.2 in /usr/local/lib/python3.10/dist-packages (from scikit-bio) (4.4.2)\n",
            "Requirement already satisfied: IPython>=3.2.0 in /usr/local/lib/python3.10/dist-packages (from scikit-bio) (7.34.0)\n",
            "Requirement already satisfied: matplotlib>=1.4.3 in /usr/local/lib/python3.10/dist-packages (from scikit-bio) (3.7.1)\n",
            "Requirement already satisfied: natsort>=4.0.3 in /usr/local/lib/python3.10/dist-packages (from scikit-bio) (8.4.0)\n",
            "Requirement already satisfied: numpy>=1.9.2 in /usr/local/lib/python3.10/dist-packages (from scikit-bio) (1.23.5)\n",
            "Requirement already satisfied: pandas>=1.5.0 in /usr/local/lib/python3.10/dist-packages (from scikit-bio) (1.5.3)\n",
            "Collecting scipy<=1.10.1 (from scikit-bio)\n",
            "  Downloading scipy-1.10.1-cp310-cp310-manylinux_2_17_x86_64.manylinux2014_x86_64.whl (34.4 MB)\n",
            "\u001b[2K     \u001b[90m━━━━━━━━━━━━━━━━━━━━━━━━━━━━━━━━━━━━━━━━\u001b[0m \u001b[32m34.4/34.4 MB\u001b[0m \u001b[31m9.5 MB/s\u001b[0m eta \u001b[36m0:00:00\u001b[0m\n",
            "\u001b[?25hRequirement already satisfied: h5py>=3.6.0 in /usr/local/lib/python3.10/dist-packages (from scikit-bio) (3.9.0)\n",
            "Collecting hdmedians>=0.14.1 (from scikit-bio)\n",
            "  Downloading hdmedians-0.14.2.tar.gz (7.6 kB)\n",
            "  Installing build dependencies ... \u001b[?25l\u001b[?25hdone\n",
            "  Getting requirements to build wheel ... \u001b[?25l\u001b[?25hdone\n",
            "  Installing backend dependencies ... \u001b[?25l\u001b[?25hdone\n",
            "  Preparing metadata (pyproject.toml) ... \u001b[?25l\u001b[?25hdone\n",
            "Requirement already satisfied: Cython>=0.23 in /usr/local/lib/python3.10/dist-packages (from hdmedians>=0.14.1->scikit-bio) (3.0.8)\n",
            "Requirement already satisfied: setuptools>=18.5 in /usr/local/lib/python3.10/dist-packages (from IPython>=3.2.0->scikit-bio) (67.7.2)\n",
            "Collecting jedi>=0.16 (from IPython>=3.2.0->scikit-bio)\n",
            "  Downloading jedi-0.19.1-py2.py3-none-any.whl (1.6 MB)\n",
            "\u001b[2K     \u001b[90m━━━━━━━━━━━━━━━━━━━━━━━━━━━━━━━━━━━━━━━━\u001b[0m \u001b[32m1.6/1.6 MB\u001b[0m \u001b[31m4.8 MB/s\u001b[0m eta \u001b[36m0:00:00\u001b[0m\n",
            "\u001b[?25hRequirement already satisfied: pickleshare in /usr/local/lib/python3.10/dist-packages (from IPython>=3.2.0->scikit-bio) (0.7.5)\n",
            "Requirement already satisfied: traitlets>=4.2 in /usr/local/lib/python3.10/dist-packages (from IPython>=3.2.0->scikit-bio) (5.7.1)\n",
            "Requirement already satisfied: prompt-toolkit!=3.0.0,!=3.0.1,<3.1.0,>=2.0.0 in /usr/local/lib/python3.10/dist-packages (from IPython>=3.2.0->scikit-bio) (3.0.43)\n",
            "Requirement already satisfied: pygments in /usr/local/lib/python3.10/dist-packages (from IPython>=3.2.0->scikit-bio) (2.16.1)\n",
            "Requirement already satisfied: backcall in /usr/local/lib/python3.10/dist-packages (from IPython>=3.2.0->scikit-bio) (0.2.0)\n",
            "Requirement already satisfied: matplotlib-inline in /usr/local/lib/python3.10/dist-packages (from IPython>=3.2.0->scikit-bio) (0.1.6)\n",
            "Requirement already satisfied: pexpect>4.3 in /usr/local/lib/python3.10/dist-packages (from IPython>=3.2.0->scikit-bio) (4.9.0)\n",
            "Requirement already satisfied: contourpy>=1.0.1 in /usr/local/lib/python3.10/dist-packages (from matplotlib>=1.4.3->scikit-bio) (1.2.0)\n",
            "Requirement already satisfied: cycler>=0.10 in /usr/local/lib/python3.10/dist-packages (from matplotlib>=1.4.3->scikit-bio) (0.12.1)\n",
            "Requirement already satisfied: fonttools>=4.22.0 in /usr/local/lib/python3.10/dist-packages (from matplotlib>=1.4.3->scikit-bio) (4.47.2)\n",
            "Requirement already satisfied: kiwisolver>=1.0.1 in /usr/local/lib/python3.10/dist-packages (from matplotlib>=1.4.3->scikit-bio) (1.4.5)\n",
            "Requirement already satisfied: packaging>=20.0 in /usr/local/lib/python3.10/dist-packages (from matplotlib>=1.4.3->scikit-bio) (23.2)\n",
            "Requirement already satisfied: pillow>=6.2.0 in /usr/local/lib/python3.10/dist-packages (from matplotlib>=1.4.3->scikit-bio) (9.4.0)\n",
            "Requirement already satisfied: pyparsing>=2.3.1 in /usr/local/lib/python3.10/dist-packages (from matplotlib>=1.4.3->scikit-bio) (3.1.1)\n",
            "Requirement already satisfied: python-dateutil>=2.7 in /usr/local/lib/python3.10/dist-packages (from matplotlib>=1.4.3->scikit-bio) (2.8.2)\n",
            "Requirement already satisfied: pytz>=2020.1 in /usr/local/lib/python3.10/dist-packages (from pandas>=1.5.0->scikit-bio) (2023.3.post1)\n",
            "Requirement already satisfied: charset-normalizer<4,>=2 in /usr/local/lib/python3.10/dist-packages (from requests>=2.20.0->scikit-bio) (3.3.2)\n",
            "Requirement already satisfied: idna<4,>=2.5 in /usr/local/lib/python3.10/dist-packages (from requests>=2.20.0->scikit-bio) (3.6)\n",
            "Requirement already satisfied: urllib3<3,>=1.21.1 in /usr/local/lib/python3.10/dist-packages (from requests>=2.20.0->scikit-bio) (2.0.7)\n",
            "Requirement already satisfied: certifi>=2017.4.17 in /usr/local/lib/python3.10/dist-packages (from requests>=2.20.0->scikit-bio) (2023.11.17)\n",
            "Requirement already satisfied: parso<0.9.0,>=0.8.3 in /usr/local/lib/python3.10/dist-packages (from jedi>=0.16->IPython>=3.2.0->scikit-bio) (0.8.3)\n",
            "Requirement already satisfied: ptyprocess>=0.5 in /usr/local/lib/python3.10/dist-packages (from pexpect>4.3->IPython>=3.2.0->scikit-bio) (0.7.0)\n",
            "Requirement already satisfied: wcwidth in /usr/local/lib/python3.10/dist-packages (from prompt-toolkit!=3.0.0,!=3.0.1,<3.1.0,>=2.0.0->IPython>=3.2.0->scikit-bio) (0.2.13)\n",
            "Requirement already satisfied: six>=1.5 in /usr/local/lib/python3.10/dist-packages (from python-dateutil>=2.7->matplotlib>=1.4.3->scikit-bio) (1.16.0)\n",
            "Building wheels for collected packages: scikit-bio, hdmedians\n",
            "  Building wheel for scikit-bio (pyproject.toml) ... \u001b[?25l\u001b[?25hdone\n",
            "  Created wheel for scikit-bio: filename=scikit_bio-0.5.9-cp310-cp310-linux_x86_64.whl size=2469060 sha256=636f8cf60822f8e49862781ea2643d515090723cb0415626347f68273bf38c50\n",
            "  Stored in directory: /root/.cache/pip/wheels/77/72/2c/993efbb4d69a86bee422bc96e4e2f1ec9af7cc596a08bb86e1\n",
            "  Building wheel for hdmedians (pyproject.toml) ... \u001b[?25l\u001b[?25hdone\n",
            "  Created wheel for hdmedians: filename=hdmedians-0.14.2-cp310-cp310-linux_x86_64.whl size=677361 sha256=3538d944615f90de258fd033e0c7f5f72969958c619be3ef93dda9709132fc64\n",
            "  Stored in directory: /root/.cache/pip/wheels/82/8f/0d/0c61130cfad119482ebb95aecf8d5dfaddd0181f5680da2bec\n",
            "Successfully built scikit-bio hdmedians\n",
            "Installing collected packages: scipy, jedi, hdmedians, scikit-bio\n",
            "  Attempting uninstall: scipy\n",
            "    Found existing installation: scipy 1.11.4\n",
            "    Uninstalling scipy-1.11.4:\n",
            "      Successfully uninstalled scipy-1.11.4\n",
            "\u001b[31mERROR: pip's dependency resolver does not currently take into account all the packages that are installed. This behaviour is the source of the following dependency conflicts.\n",
            "lida 0.0.10 requires fastapi, which is not installed.\n",
            "lida 0.0.10 requires kaleido, which is not installed.\n",
            "lida 0.0.10 requires python-multipart, which is not installed.\n",
            "lida 0.0.10 requires uvicorn, which is not installed.\u001b[0m\u001b[31m\n",
            "\u001b[0mSuccessfully installed hdmedians-0.14.2 jedi-0.19.1 scikit-bio-0.5.9 scipy-1.10.1\n"
          ]
        }
      ]
    },
    {
      "cell_type": "code",
      "source": [
        "#importing of the File\n",
        "from google.colab import files\n",
        "uploaded = files.upload()"
      ],
      "metadata": {
        "colab": {
          "base_uri": "https://localhost:8080/",
          "height": 466
        },
        "id": "CYS5ovD7ab2O",
        "outputId": "a0d73cf8-b13b-49c1-9d8c-79609dd28606"
      },
      "execution_count": 4,
      "outputs": [
        {
          "output_type": "display_data",
          "data": {
            "text/plain": [
              "<IPython.core.display.HTML object>"
            ],
            "text/html": [
              "\n",
              "     <input type=\"file\" id=\"files-1b0e2090-26e7-4a89-8f67-f477a9cac100\" name=\"files[]\" multiple disabled\n",
              "        style=\"border:none\" />\n",
              "     <output id=\"result-1b0e2090-26e7-4a89-8f67-f477a9cac100\">\n",
              "      Upload widget is only available when the cell has been executed in the\n",
              "      current browser session. Please rerun this cell to enable.\n",
              "      </output>\n",
              "      <script>// Copyright 2017 Google LLC\n",
              "//\n",
              "// Licensed under the Apache License, Version 2.0 (the \"License\");\n",
              "// you may not use this file except in compliance with the License.\n",
              "// You may obtain a copy of the License at\n",
              "//\n",
              "//      http://www.apache.org/licenses/LICENSE-2.0\n",
              "//\n",
              "// Unless required by applicable law or agreed to in writing, software\n",
              "// distributed under the License is distributed on an \"AS IS\" BASIS,\n",
              "// WITHOUT WARRANTIES OR CONDITIONS OF ANY KIND, either express or implied.\n",
              "// See the License for the specific language governing permissions and\n",
              "// limitations under the License.\n",
              "\n",
              "/**\n",
              " * @fileoverview Helpers for google.colab Python module.\n",
              " */\n",
              "(function(scope) {\n",
              "function span(text, styleAttributes = {}) {\n",
              "  const element = document.createElement('span');\n",
              "  element.textContent = text;\n",
              "  for (const key of Object.keys(styleAttributes)) {\n",
              "    element.style[key] = styleAttributes[key];\n",
              "  }\n",
              "  return element;\n",
              "}\n",
              "\n",
              "// Max number of bytes which will be uploaded at a time.\n",
              "const MAX_PAYLOAD_SIZE = 100 * 1024;\n",
              "\n",
              "function _uploadFiles(inputId, outputId) {\n",
              "  const steps = uploadFilesStep(inputId, outputId);\n",
              "  const outputElement = document.getElementById(outputId);\n",
              "  // Cache steps on the outputElement to make it available for the next call\n",
              "  // to uploadFilesContinue from Python.\n",
              "  outputElement.steps = steps;\n",
              "\n",
              "  return _uploadFilesContinue(outputId);\n",
              "}\n",
              "\n",
              "// This is roughly an async generator (not supported in the browser yet),\n",
              "// where there are multiple asynchronous steps and the Python side is going\n",
              "// to poll for completion of each step.\n",
              "// This uses a Promise to block the python side on completion of each step,\n",
              "// then passes the result of the previous step as the input to the next step.\n",
              "function _uploadFilesContinue(outputId) {\n",
              "  const outputElement = document.getElementById(outputId);\n",
              "  const steps = outputElement.steps;\n",
              "\n",
              "  const next = steps.next(outputElement.lastPromiseValue);\n",
              "  return Promise.resolve(next.value.promise).then((value) => {\n",
              "    // Cache the last promise value to make it available to the next\n",
              "    // step of the generator.\n",
              "    outputElement.lastPromiseValue = value;\n",
              "    return next.value.response;\n",
              "  });\n",
              "}\n",
              "\n",
              "/**\n",
              " * Generator function which is called between each async step of the upload\n",
              " * process.\n",
              " * @param {string} inputId Element ID of the input file picker element.\n",
              " * @param {string} outputId Element ID of the output display.\n",
              " * @return {!Iterable<!Object>} Iterable of next steps.\n",
              " */\n",
              "function* uploadFilesStep(inputId, outputId) {\n",
              "  const inputElement = document.getElementById(inputId);\n",
              "  inputElement.disabled = false;\n",
              "\n",
              "  const outputElement = document.getElementById(outputId);\n",
              "  outputElement.innerHTML = '';\n",
              "\n",
              "  const pickedPromise = new Promise((resolve) => {\n",
              "    inputElement.addEventListener('change', (e) => {\n",
              "      resolve(e.target.files);\n",
              "    });\n",
              "  });\n",
              "\n",
              "  const cancel = document.createElement('button');\n",
              "  inputElement.parentElement.appendChild(cancel);\n",
              "  cancel.textContent = 'Cancel upload';\n",
              "  const cancelPromise = new Promise((resolve) => {\n",
              "    cancel.onclick = () => {\n",
              "      resolve(null);\n",
              "    };\n",
              "  });\n",
              "\n",
              "  // Wait for the user to pick the files.\n",
              "  const files = yield {\n",
              "    promise: Promise.race([pickedPromise, cancelPromise]),\n",
              "    response: {\n",
              "      action: 'starting',\n",
              "    }\n",
              "  };\n",
              "\n",
              "  cancel.remove();\n",
              "\n",
              "  // Disable the input element since further picks are not allowed.\n",
              "  inputElement.disabled = true;\n",
              "\n",
              "  if (!files) {\n",
              "    return {\n",
              "      response: {\n",
              "        action: 'complete',\n",
              "      }\n",
              "    };\n",
              "  }\n",
              "\n",
              "  for (const file of files) {\n",
              "    const li = document.createElement('li');\n",
              "    li.append(span(file.name, {fontWeight: 'bold'}));\n",
              "    li.append(span(\n",
              "        `(${file.type || 'n/a'}) - ${file.size} bytes, ` +\n",
              "        `last modified: ${\n",
              "            file.lastModifiedDate ? file.lastModifiedDate.toLocaleDateString() :\n",
              "                                    'n/a'} - `));\n",
              "    const percent = span('0% done');\n",
              "    li.appendChild(percent);\n",
              "\n",
              "    outputElement.appendChild(li);\n",
              "\n",
              "    const fileDataPromise = new Promise((resolve) => {\n",
              "      const reader = new FileReader();\n",
              "      reader.onload = (e) => {\n",
              "        resolve(e.target.result);\n",
              "      };\n",
              "      reader.readAsArrayBuffer(file);\n",
              "    });\n",
              "    // Wait for the data to be ready.\n",
              "    let fileData = yield {\n",
              "      promise: fileDataPromise,\n",
              "      response: {\n",
              "        action: 'continue',\n",
              "      }\n",
              "    };\n",
              "\n",
              "    // Use a chunked sending to avoid message size limits. See b/62115660.\n",
              "    let position = 0;\n",
              "    do {\n",
              "      const length = Math.min(fileData.byteLength - position, MAX_PAYLOAD_SIZE);\n",
              "      const chunk = new Uint8Array(fileData, position, length);\n",
              "      position += length;\n",
              "\n",
              "      const base64 = btoa(String.fromCharCode.apply(null, chunk));\n",
              "      yield {\n",
              "        response: {\n",
              "          action: 'append',\n",
              "          file: file.name,\n",
              "          data: base64,\n",
              "        },\n",
              "      };\n",
              "\n",
              "      let percentDone = fileData.byteLength === 0 ?\n",
              "          100 :\n",
              "          Math.round((position / fileData.byteLength) * 100);\n",
              "      percent.textContent = `${percentDone}% done`;\n",
              "\n",
              "    } while (position < fileData.byteLength);\n",
              "  }\n",
              "\n",
              "  // All done.\n",
              "  yield {\n",
              "    response: {\n",
              "      action: 'complete',\n",
              "    }\n",
              "  };\n",
              "}\n",
              "\n",
              "scope.google = scope.google || {};\n",
              "scope.google.colab = scope.google.colab || {};\n",
              "scope.google.colab._files = {\n",
              "  _uploadFiles,\n",
              "  _uploadFilesContinue,\n",
              "};\n",
              "})(self);\n",
              "</script> "
            ]
          },
          "metadata": {}
        },
        {
          "output_type": "stream",
          "name": "stdout",
          "text": [
            "Saving SRR1552444.fastq to SRR1552444.fastq\n",
            "Saving SRR1552445.fastq to SRR1552445.fastq\n",
            "Saving SRR1552446.fastq to SRR1552446.fastq\n",
            "Saving SRR1552447.fastq to SRR1552447.fastq\n",
            "Saving SRR1552448.fastq to SRR1552448.fastq\n",
            "Saving SRR1552449.fastq to SRR1552449.fastq\n",
            "Saving SRR1552450.fastq to SRR1552450.fastq\n",
            "Saving SRR1552451.fastq to SRR1552451.fastq\n",
            "Saving SRR1552452.fastq to SRR1552452.fastq\n",
            "Saving SRR1552453.fastq to SRR1552453.fastq\n",
            "Saving SRR1552454.fastq to SRR1552454.fastq\n",
            "Saving SRR1552455.fastq to SRR1552455.fastq\n"
          ]
        }
      ]
    },
    {
      "cell_type": "code",
      "source": [
        "import io"
      ],
      "metadata": {
        "id": "lRpi944ebTZI"
      },
      "execution_count": 5,
      "outputs": []
    },
    {
      "cell_type": "code",
      "source": [
        "file_1 = 'SRR1552444.fastq'\n",
        "record_1 = SeqIO.parse(file_1, 'fastq')\n",
        "\n",
        "######\n",
        "for i, sequence in enumerate(record_1):\n",
        "    if i < 10:\n",
        "        print(f\"ID: {sequence.id}\")\n",
        "        print(f\"Description: {sequence.description}\")\n",
        "        print(f\"Sequence length: {len(sequence.seq)}\")\n",
        "        print(f\"Sequence: {sequence.seq}\")\n",
        "        print(f\"Quality scores: {sequence.letter_annotations['phred_quality']}\")\n",
        "        print(\"\\n\" + \"-\"*30 + \"\\n\")"
      ],
      "metadata": {
        "colab": {
          "base_uri": "https://localhost:8080/"
        },
        "id": "Zpis0aA8btBm",
        "outputId": "a74ef48f-b2b3-4694-a516-b43cf8ff9bae"
      },
      "execution_count": 6,
      "outputs": [
        {
          "output_type": "stream",
          "name": "stdout",
          "text": [
            "ID: SRR1552444.1\n",
            "Description: SRR1552444.1 DCV4KXP1:223:C2CTUACXX:1:1101:1502:2230 length=100\n",
            "Sequence length: 100\n",
            "Sequence: CTGCCCTCAGCTATCTTCTCATGCTGCAAGTCTGACTCCACCGTCCTAGGTGTAGGAGCTGTCTCCATGGANNGGTNACANGTACATACAGTCTACAGCC\n",
            "Quality scores: [34, 34, 34, 37, 37, 37, 37, 37, 39, 39, 39, 39, 39, 41, 41, 41, 41, 41, 41, 41, 41, 41, 41, 41, 41, 40, 41, 41, 41, 41, 41, 41, 40, 41, 40, 41, 41, 41, 41, 41, 41, 41, 41, 40, 41, 41, 41, 41, 41, 41, 39, 39, 39, 40, 40, 41, 41, 40, 41, 41, 41, 41, 41, 41, 41, 41, 41, 41, 41, 41, 38, 2, 2, 12, 20, 26, 2, 11, 20, 28, 2, 11, 26, 30, 33, 35, 36, 36, 35, 35, 35, 36, 35, 35, 34, 35, 35, 35, 35, 35]\n",
            "\n",
            "------------------------------\n",
            "\n",
            "ID: SRR1552444.2\n",
            "Description: SRR1552444.2 DCV4KXP1:223:C2CTUACXX:1:1101:1606:2247 length=100\n",
            "Sequence length: 100\n",
            "Sequence: AATAAAAAAGATAAAACCTTGGCCTGTCTGAAGATGAGGTGGAGGATCATCCAAGTACAGTACTGTTTTCTCTTGGTTCCGTGCATGCTGACCGCTCTGG\n",
            "Quality scores: [31, 31, 27, 35, 35, 35, 30, 35, 39, 30, 35, 39, 37, 40, 38, 27, 36, 36, 38, 39, 38, 39, 36, 31, 37, 39, 35, 37, 39, 40, 35, 34, 35, 35, 39, 38, 40, 40, 40, 18, 30, 33, 30, 37, 38, 38, 40, 34, 34, 33, 39, 34, 35, 37, 40, 28, 37, 38, 38, 39, 38, 39, 36, 31, 36, 39, 40, 35, 39, 36, 39, 22, 30, 30, 31, 34, 26, 33, 26, 26, 32, 31, 33, 33, 33, 36, 34, 29, 18, 25, 29, 30, 32, 25, 28, 27, 33, 33, 32, 25]\n",
            "\n",
            "------------------------------\n",
            "\n",
            "ID: SRR1552444.3\n",
            "Description: SRR1552444.3 DCV4KXP1:223:C2CTUACXX:1:1101:1957:2225 length=100\n",
            "Sequence length: 100\n",
            "Sequence: CAACAAGGAGGGAGAAGACAGCAGTGTTATCCACTATGACGATAAGGCCATTGAACGACTGCTGGATCGAANNCANNNTGNGACTGAAGACACAGAATTG\n",
            "Quality scores: [34, 34, 34, 37, 37, 37, 37, 37, 38, 39, 39, 39, 38, 41, 41, 41, 41, 41, 41, 41, 41, 41, 41, 41, 40, 40, 40, 41, 40, 41, 41, 41, 41, 41, 41, 41, 41, 40, 41, 41, 41, 40, 41, 41, 41, 41, 41, 40, 41, 40, 40, 41, 40, 41, 41, 41, 40, 41, 41, 39, 39, 39, 39, 37, 37, 37, 37, 37, 35, 35, 36, 2, 2, 11, 11, 2, 2, 2, 11, 11, 2, 11, 20, 30, 33, 35, 35, 35, 35, 34, 35, 35, 35, 35, 35, 35, 35, 35, 35, 34]\n",
            "\n",
            "------------------------------\n",
            "\n",
            "ID: SRR1552444.4\n",
            "Description: SRR1552444.4 DCV4KXP1:223:C2CTUACXX:1:1101:2113:2218 length=100\n",
            "Sequence length: 100\n",
            "Sequence: GTGGAATCCAGACCGAGAAGGAGACNATGCAAGACCTGAACGATCGCCTGGCCAGCTACCTAGACAAGGTGNNGNNNNTNNANNCTGAGAACAGGAGACT\n",
            "Quality scores: [34, 33, 31, 37, 37, 37, 37, 37, 39, 39, 39, 39, 39, 41, 40, 38, 40, 41, 41, 40, 41, 41, 41, 38, 41, 2, 16, 30, 37, 36, 39, 40, 38, 40, 41, 41, 41, 41, 41, 41, 41, 36, 39, 38, 38, 40, 41, 41, 41, 39, 39, 39, 39, 37, 35, 37, 37, 36, 36, 36, 36, 35, 35, 35, 35, 35, 35, 35, 35, 32, 34, 2, 2, 11, 2, 2, 2, 2, 10, 2, 2, 10, 2, 2, 10, 10, 23, 30, 33, 35, 35, 35, 35, 35, 33, 35, 35, 32, 31, 34]\n",
            "\n",
            "------------------------------\n",
            "\n",
            "ID: SRR1552444.5\n",
            "Description: SRR1552444.5 DCV4KXP1:223:C2CTUACXX:1:1101:2031:2222 length=100\n",
            "Sequence length: 100\n",
            "Sequence: CGGCGGGCGGCTCCGGCGGGGTAGGCGCTGCTGCTTGTGGTCCCCGGAGTCGCCATGCCTACAACACAGCANNCNNNNCANGATGAGCAGGAAAAACTTT\n",
            "Quality scores: [34, 34, 34, 37, 37, 37, 37, 37, 37, 39, 38, 39, 39, 37, 37, 37, 35, 35, 35, 35, 35, 12, 22, 30, 33, 34, 33, 31, 21, 33, 21, 34, 34, 32, 29, 34, 29, 23, 29, 31, 23, 31, 34, 33, 35, 33, 35, 20, 31, 27, 34, 23, 22, 31, 30, 31, 32, 34, 35, 34, 34, 35, 34, 34, 35, 35, 35, 32, 30, 32, 30, 2, 2, 10, 2, 2, 2, 2, 10, 7, 2, 10, 10, 17, 27, 30, 34, 34, 32, 34, 33, 30, 33, 34, 35, 35, 29, 32, 34, 35]\n",
            "\n",
            "------------------------------\n",
            "\n",
            "ID: SRR1552444.6\n",
            "Description: SRR1552444.6 DCV4KXP1:223:C2CTUACXX:1:1101:2171:2235 length=100\n",
            "Sequence length: 100\n",
            "Sequence: GCTTATTCAAATCATGATTGTGATATTTGGAGAGGAGCCTCCAGTGTTCTCCCGGCCTACTGTTTCTGCATCNTACNCACNATACACAGCAACAGGGCCA\n",
            "Quality scores: [34, 34, 34, 37, 37, 37, 37, 37, 38, 39, 39, 39, 39, 40, 41, 41, 41, 41, 36, 40, 39, 38, 40, 41, 41, 41, 41, 41, 41, 41, 38, 40, 40, 41, 41, 41, 41, 41, 41, 41, 41, 41, 41, 41, 41, 38, 40, 41, 41, 41, 41, 41, 41, 41, 36, 40, 40, 41, 41, 40, 40, 38, 37, 39, 40, 40, 41, 38, 41, 40, 39, 39, 2, 12, 26, 26, 2, 11, 26, 32, 2, 11, 26, 30, 33, 35, 35, 35, 30, 33, 35, 35, 35, 35, 27, 30, 30, 33, 33, 35]\n",
            "\n",
            "------------------------------\n",
            "\n",
            "ID: SRR1552444.7\n",
            "Description: SRR1552444.7 DCV4KXP1:223:C2CTUACXX:1:1101:2134:2239 length=100\n",
            "Sequence length: 100\n",
            "Sequence: CGCCGCCTTGCGCACCTCTAGTCGTATGCCGTCTTCTGCTTGAAAAAAAAACAAAAAACCTAATCATCTAATNAAGNCTANAAACCACGAACCGCAGACA\n",
            "Quality scores: [31, 27, 31, 35, 35, 35, 32, 32, 32, 39, 33, 29, 37, 36, 39, 38, 32, 36, 39, 40, 40, 39, 40, 40, 40, 38, 24, 8, 25, 33, 35, 31, 25, 37, 39, 27, 31, 28, 28, 34, 39, 31, 17, 22, 28, 31, 2, 2, 2, 2, 2, 2, 2, 2, 2, 2, 2, 2, 2, 2, 2, 2, 2, 2, 2, 2, 2, 2, 2, 2, 2, 2, 2, 2, 2, 2, 2, 2, 2, 2, 2, 2, 2, 2, 2, 2, 2, 2, 2, 2, 2, 2, 2, 2, 2, 2, 2, 2, 2, 2]\n",
            "\n",
            "------------------------------\n",
            "\n",
            "ID: SRR1552444.8\n",
            "Description: SRR1552444.8 DCV4KXP1:223:C2CTUACXX:1:1101:2121:2249 length=100\n",
            "Sequence length: 100\n",
            "Sequence: CTCAGCTCTGGAACAGGGGTCCAGTCATCAATGTTTGGATCATACATTTCTCCACAACTCAGGTCATCTGAGTGTCCATTTGATCCACCCACCACATAGA\n",
            "Quality scores: [34, 34, 34, 37, 37, 35, 33, 33, 35, 35, 34, 23, 35, 39, 38, 36, 38, 38, 38, 31, 25, 32, 32, 37, 39, 38, 38, 40, 38, 39, 35, 40, 40, 38, 40, 40, 36, 36, 33, 38, 9, 15, 30, 33, 35, 38, 36, 34, 33, 38, 38, 40, 37, 38, 38, 32, 39, 38, 38, 39, 40, 37, 31, 39, 38, 36, 39, 38, 40, 31, 36, 30, 28, 28, 28, 22, 30, 36, 37, 35, 37, 31, 29, 30, 26, 34, 31, 29, 26, 28, 31, 33, 33, 32, 33, 34, 34, 34, 31, 34]\n",
            "\n",
            "------------------------------\n",
            "\n",
            "ID: SRR1552444.9\n",
            "Description: SRR1552444.9 DCV4KXP1:223:C2CTUACXX:1:1101:2463:2237 length=100\n",
            "Sequence length: 100\n",
            "Sequence: CCGGCGTTCGGTTCATCCCGCAGCGCCAGTTCTGCTTACCAAAAGTGGCCCACTAGGCACTCGCATTCCACGNCCGNCTCNACGCCAGCGAGCCGGGCTT\n",
            "Quality scores: [34, 34, 34, 37, 37, 37, 37, 37, 39, 39, 39, 39, 39, 41, 41, 41, 41, 41, 41, 41, 41, 41, 41, 40, 41, 41, 41, 41, 41, 40, 41, 41, 41, 40, 41, 41, 41, 41, 41, 41, 41, 41, 39, 39, 39, 36, 36, 37, 37, 37, 37, 35, 35, 36, 36, 35, 35, 34, 34, 35, 35, 35, 35, 35, 35, 35, 35, 35, 36, 36, 35, 35, 2, 10, 23, 27, 2, 10, 17, 27, 2, 10, 17, 23, 30, 35, 33, 31, 33, 35, 27, 31, 33, 35, 31, 33, 31, 33, 31, 33]\n",
            "\n",
            "------------------------------\n",
            "\n",
            "ID: SRR1552444.10\n",
            "Description: SRR1552444.10 DCV4KXP1:223:C2CTUACXX:1:1101:2569:2220 length=100\n",
            "Sequence length: 100\n",
            "Sequence: CTTGTAAGAAACCTTCACCACAGAGGGGGCCCACTTGTCAAATTCATACGCCCAGCTTGACAGTGTCGAGANNGNNNNGNNGATGAGGAAAGGCCCGTTG\n",
            "Quality scores: [28, 30, 26, 35, 28, 32, 35, 11, 32, 35, 33, 35, 18, 18, 30, 30, 36, 36, 37, 32, 36, 36, 29, 31, 32, 37, 16, 23, 8, 21, 31, 31, 35, 28, 26, 30, 23, 28, 33, 33, 33, 27, 33, 26, 34, 32, 22, 28, 26, 7, 26, 32, 27, 28, 21, 7, 22, 22, 30, 31, 32, 2, 2, 2, 2, 2, 2, 2, 2, 2, 2, 2, 2, 2, 2, 2, 2, 2, 2, 2, 2, 2, 2, 2, 2, 2, 2, 2, 2, 2, 2, 2, 2, 2, 2, 2, 2, 2, 2, 2]\n",
            "\n",
            "------------------------------\n",
            "\n"
          ]
        }
      ]
    },
    {
      "cell_type": "code",
      "source": [
        "file_2 = 'SRR1552445.fastq'\n",
        "file_3 = 'SRR1552446.fastq'\n",
        "file_4 = 'SRR1552447.fastq'\n",
        "file_5 = 'SRR1552448.fastq'\n",
        "file_6 = 'SRR1552449.fastq'\n",
        "file_7 = 'SRR1552450.fastq'\n",
        "file_8 = 'SRR1552451.fastq'\n",
        "file_9 = 'SRR1552452.fastq'\n",
        "file_10 = 'SRR1552453.fastq'\n",
        "file_11= 'SRR1552454.fastq'\n",
        "file_12= 'SRR1552455.fastq'\n"
      ],
      "metadata": {
        "id": "pq6Wkb4_cL3J"
      },
      "execution_count": 7,
      "outputs": []
    },
    {
      "cell_type": "markdown",
      "source": [
        "GC content in Luminal virgin #1"
      ],
      "metadata": {
        "id": "pF84rQrNlmtP"
      }
    },
    {
      "cell_type": "code",
      "source": [
        "file_1 = 'SRR1552444.fastq'\n",
        "record_1 = SeqIO.parse(file_1, 'fastq')\n",
        "\n",
        "gc_contents_lumina_vir_1 = []\n",
        "\n",
        "for sequence in record_1:\n",
        "\n",
        "    if \"G\" in sequence.seq or \"C\" in sequence.seq:\n",
        "\n",
        "        gc_content = (sequence.seq.count(\"G\") + sequence.seq.count(\"C\")) / len(sequence.seq) * 100\n",
        "        gc_contents_lumina_vir_1.append(gc_content)\n",
        "\n",
        "# Print the calculated GC contents\n",
        "print(\"GC Contents:\", gc_contents_lumina_vir_1)"
      ],
      "metadata": {
        "colab": {
          "base_uri": "https://localhost:8080/"
        },
        "id": "6rKtxSFin1jZ",
        "outputId": "f0b28a5b-eb5e-41fa-90e9-ddc0d017f9b6"
      },
      "execution_count": 8,
      "outputs": [
        {
          "output_type": "stream",
          "name": "stdout",
          "text": [
            "GC Contents: [51.0, 45.0, 44.0, 48.0, 60.0, 46.0, 43.0, 47.0, 63.0, 49.0, 45.0, 35.0, 51.0, 45.0, 47.0, 55.00000000000001, 28.999999999999996, 51.0, 50.0, 51.0, 55.00000000000001, 47.0, 59.0, 61.0, 61.0, 38.0, 43.0, 60.0, 54.0, 27.0, 48.0, 55.00000000000001, 39.0, 50.0, 56.00000000000001, 43.0, 34.0, 56.99999999999999, 56.00000000000001, 45.0, 45.0, 53.0, 67.0, 48.0, 31.0, 49.0, 56.99999999999999, 54.0, 61.0, 49.0, 52.0, 53.0, 43.0, 44.0, 66.0, 76.0, 37.0, 45.0, 35.0, 51.0, 38.0, 59.0, 36.0, 56.99999999999999, 40.0, 54.0, 48.0, 57.99999999999999, 49.0, 35.0, 59.0, 50.0, 42.0, 56.99999999999999, 44.0, 74.0, 43.0, 62.0, 48.0, 47.0, 45.0, 57.99999999999999, 59.0, 32.0, 42.0, 45.0, 46.0, 56.00000000000001, 42.0, 41.0, 34.0, 48.0, 54.0, 47.0, 38.0, 48.0, 50.0, 52.0, 43.0, 28.999999999999996, 39.0, 49.0, 59.0, 49.0, 47.0, 41.0, 41.0, 22.0, 34.0, 54.0, 54.0, 51.0, 41.0, 59.0, 60.0, 56.00000000000001, 49.0, 45.0, 35.0, 57.99999999999999, 51.0, 51.0, 56.00000000000001, 63.0, 54.0, 64.0, 47.0, 54.0, 47.0, 34.0, 56.00000000000001, 57.99999999999999, 34.0, 62.0, 67.0, 65.0, 52.0, 46.0, 40.0, 62.0, 61.0, 50.0, 64.0, 47.0, 45.0, 59.0, 55.00000000000001, 71.0, 55.00000000000001, 40.0, 36.0, 50.0, 30.0, 34.0, 46.0, 41.0, 28.999999999999996, 65.0, 47.0, 56.00000000000001, 57.99999999999999, 51.0, 42.0, 47.0, 59.0, 41.0, 45.0, 47.0, 45.0, 26.0, 55.00000000000001, 61.0, 41.0, 48.0, 45.0, 50.0, 37.0, 48.0, 57.99999999999999, 45.0, 59.0, 64.0, 65.0, 40.0, 52.0, 47.0, 59.0, 41.0, 56.99999999999999, 56.00000000000001, 38.0, 42.0, 56.99999999999999, 63.0, 49.0, 45.0, 41.0, 70.0, 43.0, 72.0, 49.0, 38.0, 64.0, 59.0, 48.0, 54.0, 46.0, 45.0, 45.0, 53.0, 55.00000000000001, 88.0, 54.0, 51.0, 50.0, 59.0, 49.0, 43.0, 47.0, 45.0, 56.00000000000001, 35.0, 71.0, 59.0, 48.0, 34.0, 56.99999999999999, 52.0, 49.0, 34.0, 44.0, 56.00000000000001, 53.0, 53.0, 66.0, 39.0, 66.0, 40.0, 40.0, 54.0, 45.0, 49.0, 57.99999999999999, 40.0, 55.00000000000001, 76.0, 53.0, 54.0, 44.0, 43.0, 47.0, 39.0, 44.0, 54.0, 25.0, 49.0, 39.0, 63.0, 47.0, 47.0, 59.0, 47.0, 49.0, 57.99999999999999, 26.0, 55.00000000000001, 52.0, 56.99999999999999, 46.0, 37.0, 56.99999999999999, 59.0, 63.0, 47.0, 46.0, 50.0, 51.0, 47.0, 46.0, 46.0, 36.0, 57.99999999999999, 50.0, 43.0, 48.0, 50.0, 28.999999999999996, 47.0, 56.00000000000001, 26.0, 44.0, 56.99999999999999, 56.00000000000001, 49.0, 56.00000000000001, 51.0, 45.0, 47.0, 50.0, 48.0, 65.0, 40.0, 51.0, 55.00000000000001, 59.0, 60.0, 31.0, 37.0, 53.0, 55.00000000000001, 63.0, 44.0, 51.0, 53.0, 43.0, 61.0, 60.0, 44.0, 59.0, 56.99999999999999, 45.0, 59.0, 59.0, 44.0, 48.0, 51.0, 42.0, 35.0, 51.0, 47.0, 68.0, 49.0, 70.0, 61.0, 59.0, 33.0, 37.0, 56.00000000000001, 43.0, 28.000000000000004, 34.0, 41.0, 56.99999999999999, 74.0, 49.0, 52.0, 69.0, 48.0, 53.0, 28.000000000000004, 34.0, 50.0, 36.0, 51.0, 40.0, 50.0, 67.0, 55.00000000000001, 56.00000000000001, 62.0, 49.0, 47.0, 52.0, 46.0, 65.0, 44.0, 39.0, 37.0, 48.0, 62.0, 55.00000000000001, 56.99999999999999, 51.0, 49.0, 52.0, 57.99999999999999, 48.0, 66.0, 46.0, 56.99999999999999, 47.0, 41.0, 44.0, 49.0, 55.00000000000001, 65.0, 49.0, 45.0, 44.0, 56.99999999999999, 47.0, 33.0, 38.0, 39.0, 47.0, 41.0, 45.0, 79.0, 44.0, 32.0, 48.0, 54.0, 46.0, 56.00000000000001, 45.0, 52.0, 76.0, 41.0, 46.0, 56.99999999999999, 44.0, 42.0, 62.0, 56.00000000000001, 56.99999999999999, 46.0, 32.0, 45.0, 49.0, 42.0, 44.0, 51.0, 39.0, 53.0, 38.0, 39.0, 51.0, 42.0, 45.0, 28.999999999999996, 33.0, 54.0, 53.0, 49.0, 53.0, 52.0, 66.0, 50.0, 31.0, 33.0, 35.0, 57.99999999999999, 53.0, 55.00000000000001, 57.99999999999999, 47.0, 53.0, 53.0, 50.0, 49.0, 41.0, 45.0, 53.0, 45.0, 38.0, 62.0, 50.0, 54.0, 50.0, 41.0, 34.0, 44.0, 60.0, 44.0, 62.0, 80.0, 55.00000000000001, 55.00000000000001, 81.0, 40.0, 32.0, 44.0, 61.0, 57.99999999999999, 50.0, 47.0, 38.0, 57.99999999999999, 41.0, 59.0, 57.99999999999999, 31.0, 56.99999999999999, 37.0, 55.00000000000001, 38.0, 48.0, 42.0, 41.0, 37.0, 60.0, 60.0, 32.0, 48.0, 51.0, 57.99999999999999, 59.0, 56.99999999999999, 42.0, 57.99999999999999, 50.0, 43.0, 46.0, 59.0, 44.0, 40.0, 56.00000000000001, 52.0, 54.0, 62.0, 56.99999999999999, 49.0, 41.0, 59.0, 32.0, 40.0, 52.0, 72.0, 64.0, 45.0, 52.0, 37.0, 49.0, 37.0, 63.0, 47.0, 40.0, 52.0, 48.0, 55.00000000000001, 43.0, 50.0, 36.0, 41.0, 47.0, 47.0, 46.0, 53.0, 45.0, 51.0, 47.0, 42.0, 60.0, 63.0, 56.99999999999999, 54.0, 52.0, 45.0, 51.0, 57.99999999999999, 36.0, 39.0, 53.0, 44.0, 56.00000000000001, 62.0, 48.0, 53.0, 30.0, 70.0, 40.0, 34.0, 39.0, 50.0, 47.0, 59.0, 28.000000000000004, 56.00000000000001, 40.0, 55.00000000000001, 53.0, 26.0, 55.00000000000001, 50.0, 44.0, 69.0, 46.0, 45.0, 39.0, 50.0, 48.0, 44.0, 59.0, 56.00000000000001, 28.000000000000004, 40.0, 34.0, 55.00000000000001, 45.0, 47.0, 65.0, 68.0, 51.0, 48.0, 37.0, 43.0, 66.0, 30.0, 31.0, 48.0, 56.99999999999999, 48.0, 44.0, 69.0, 46.0, 68.0, 42.0, 54.0, 50.0, 54.0, 51.0, 60.0, 52.0, 51.0, 53.0, 48.0, 47.0, 75.0, 51.0, 50.0, 56.00000000000001, 55.00000000000001, 56.99999999999999, 42.0, 42.0, 39.0, 60.0, 38.0, 49.0, 56.00000000000001, 57.99999999999999, 51.0, 41.0, 52.0, 46.0, 28.999999999999996, 57.99999999999999, 60.0, 48.0, 46.0, 71.0, 35.0, 33.0, 41.0, 44.0, 56.99999999999999, 57.99999999999999, 35.0, 50.0, 67.0, 43.0, 42.0, 47.0, 54.0, 52.0, 60.0, 41.0, 66.0, 43.0, 38.0, 56.00000000000001, 35.0, 51.0, 38.0, 39.0, 44.0, 46.0, 45.0, 46.0, 64.0, 44.0, 45.0, 56.99999999999999, 34.0, 49.0, 62.0, 34.0, 44.0, 62.0, 53.0, 43.0, 57.99999999999999, 57.99999999999999, 61.0, 48.0, 60.0, 62.0, 41.0, 42.0, 65.0, 62.0, 42.0, 65.0, 48.0, 43.0, 42.0, 62.0, 54.0, 26.0, 61.0, 60.0, 60.0, 64.0, 33.0, 53.0, 48.0, 28.000000000000004, 31.0, 55.00000000000001, 52.0, 57.99999999999999, 45.0, 38.0, 68.0, 48.0, 78.0, 49.0, 42.0, 62.0, 54.0, 44.0, 37.0, 39.0, 50.0, 55.00000000000001, 53.0, 48.0, 52.0, 59.0, 62.0, 59.0, 50.0, 38.0, 66.0, 52.0, 53.0, 53.0, 65.0, 56.00000000000001, 33.0, 50.0, 62.0, 48.0, 41.0, 37.0, 56.00000000000001, 60.0, 51.0, 69.0, 55.00000000000001, 46.0, 38.0, 42.0, 49.0, 65.0, 59.0, 53.0, 48.0, 56.00000000000001, 44.0, 63.0, 49.0, 56.99999999999999, 46.0, 53.0, 49.0, 64.0, 55.00000000000001, 57.99999999999999, 66.0, 46.0, 53.0, 47.0, 48.0, 36.0, 55.00000000000001, 45.0, 56.00000000000001, 68.0, 56.99999999999999, 51.0, 40.0, 55.00000000000001, 55.00000000000001, 64.0, 49.0, 56.00000000000001, 47.0, 56.99999999999999, 32.0, 43.0, 36.0, 34.0, 49.0, 56.00000000000001, 60.0, 62.0, 48.0, 38.0, 37.0, 59.0, 49.0, 61.0, 45.0, 64.0, 54.0, 45.0, 63.0, 67.0, 54.0, 54.0, 54.0, 45.0, 55.00000000000001, 60.0, 41.0, 65.0, 56.00000000000001, 47.0, 64.0, 37.0, 44.0, 62.0, 60.0, 59.0, 41.0, 46.0, 56.00000000000001, 37.0, 35.0, 52.0, 47.0, 43.0, 67.0, 56.99999999999999, 41.0, 56.99999999999999, 55.00000000000001, 39.0, 40.0, 69.0, 46.0, 56.99999999999999, 41.0, 64.0, 54.0, 48.0, 39.0, 53.0, 57.99999999999999, 51.0, 60.0, 48.0, 59.0, 49.0, 56.99999999999999, 33.0, 35.0, 47.0, 56.00000000000001, 32.0, 44.0, 43.0, 62.0, 78.0, 27.0, 52.0, 57.99999999999999, 59.0, 59.0, 61.0, 48.0, 35.0, 26.0, 59.0, 63.0, 63.0, 67.0, 50.0, 46.0, 51.0, 62.0, 36.0, 50.0, 71.0, 57.99999999999999, 50.0, 51.0, 45.0, 60.0, 44.0, 43.0, 41.0, 53.0, 33.0, 50.0, 48.0, 52.0, 28.999999999999996, 46.0, 48.0, 55.00000000000001, 52.0, 44.0, 53.0, 43.0, 41.0, 45.0, 60.0, 60.0, 51.0, 59.0, 48.0, 61.0, 39.0, 52.0, 44.0, 55.00000000000001, 42.0, 64.0, 61.0, 41.0, 75.0, 54.0, 59.0, 52.0, 56.00000000000001, 52.0, 53.0, 65.0, 51.0, 48.0, 28.999999999999996, 51.0, 34.0, 54.0, 47.0, 56.00000000000001, 57.99999999999999, 56.99999999999999, 37.0, 49.0, 55.00000000000001, 61.0, 61.0, 43.0, 49.0, 47.0, 37.0, 27.0, 49.0, 38.0, 41.0, 56.00000000000001, 44.0, 40.0, 56.00000000000001, 69.0, 45.0, 49.0, 61.0, 43.0, 52.0, 62.0, 64.0, 69.0, 55.00000000000001, 53.0, 62.0, 51.0, 70.0, 37.0, 52.0, 51.0, 56.00000000000001, 55.00000000000001, 55.00000000000001, 53.0, 56.99999999999999, 44.0, 43.0, 51.0, 50.0, 56.99999999999999, 30.0, 44.0, 38.0, 32.0, 45.0, 45.0, 43.0, 63.0, 40.0, 53.0, 44.0, 51.0, 33.0, 37.0, 57.99999999999999, 48.0]\n"
          ]
        }
      ]
    },
    {
      "cell_type": "code",
      "source": [
        "plt.figure(figsize=(10, 6))\n",
        "sns.violinplot(y=gc_contents_lumina_vir_1, color='skyblue')\n",
        "plt.title('GC Content Distribution in Virgin 1')\n",
        "plt.ylabel('GC Content (%)')\n",
        "plt.show()"
      ],
      "metadata": {
        "colab": {
          "base_uri": "https://localhost:8080/",
          "height": 526
        },
        "id": "5jD22udQofEA",
        "outputId": "201256a9-8cfe-41e6-a644-d1103f06db56"
      },
      "execution_count": 9,
      "outputs": [
        {
          "output_type": "display_data",
          "data": {
            "text/plain": [
              "<Figure size 1000x600 with 1 Axes>"
            ],
            "image/png": "[encoded data removed]"
          },
          "metadata": {}
        }
      ]
    },
    {
      "cell_type": "code",
      "source": [
        "\n",
        "record_2 = SeqIO.parse(file_2, 'fastq')\n",
        "\n",
        "gc_contents_virgin_2 = []\n",
        "\n",
        "\n",
        "for sequence in record_2:\n",
        "    if \"G\" in sequence.seq or \"C\" in sequence.seq:\n",
        "        gc_content = (sequence.seq.count(\"G\") + sequence.seq.count(\"C\")) / len(sequence.seq) * 100\n",
        "        gc_contents_virgin_2.append(gc_content)\n",
        "print(\"GC Contents:\", gc_contents_virgin_2)"
      ],
      "metadata": {
        "colab": {
          "base_uri": "https://localhost:8080/"
        },
        "id": "RQ1Fz9tvp1KM",
        "outputId": "435f64bc-991b-4ea0-de26-47d6d5d7c884"
      },
      "execution_count": 10,
      "outputs": [
        {
          "output_type": "stream",
          "name": "stdout",
          "text": [
            "GC Contents: [32.0, 46.0, 53.0, 70.0, 48.0, 53.0, 53.0, 50.0, 50.0, 40.0, 31.0, 69.0, 39.0, 46.0, 40.0, 40.0, 47.0, 43.0, 36.0, 49.0, 34.0, 49.0, 34.0, 51.0, 47.0, 61.0, 64.0, 46.0, 37.0, 36.0, 47.0, 59.0, 44.0, 47.0, 59.0, 45.0, 41.0, 48.0, 41.0, 33.0, 44.0, 52.0, 37.0, 56.00000000000001, 65.0, 56.99999999999999, 46.0, 49.0, 43.0, 35.0, 56.00000000000001, 62.0, 36.0, 61.0, 56.00000000000001, 56.99999999999999, 62.0, 50.0, 42.0, 70.0, 54.0, 39.0, 55.00000000000001, 50.0, 53.0, 21.0, 72.0, 21.0, 61.0, 64.0, 60.0, 35.0, 50.0, 38.0, 55.00000000000001, 34.0, 40.0, 42.0, 35.0, 40.0, 57.99999999999999, 65.0, 40.0, 48.0, 54.0, 55.00000000000001, 30.0, 57.99999999999999, 87.0, 69.0, 53.0, 50.0, 41.0, 44.0, 52.0, 47.0, 55.00000000000001, 49.0, 49.0, 51.0, 38.0, 40.0, 55.00000000000001, 44.0, 47.0, 49.0, 54.0, 44.0, 55.00000000000001, 71.0, 60.0, 27.0, 47.0, 81.0, 64.0, 44.0, 47.0, 53.0, 47.0, 45.0, 45.0, 32.0, 40.0, 54.0, 51.0, 52.0, 38.0, 43.0, 36.0, 60.0, 45.0, 60.0, 45.0, 47.0, 82.0, 56.99999999999999, 48.0, 65.0, 43.0, 37.0, 47.0, 51.0, 40.0, 51.0, 48.0, 60.0, 56.00000000000001, 57.99999999999999, 75.0, 85.0, 56.00000000000001, 50.0, 45.0, 35.0, 61.0, 42.0, 67.0, 64.0, 57.99999999999999, 61.0, 62.0, 34.0, 40.0, 52.0, 50.0, 38.0, 62.0, 39.0, 48.0, 64.0, 56.99999999999999, 61.0, 33.0, 56.00000000000001, 46.0, 59.0, 50.0, 61.0, 49.0, 48.0, 49.0, 56.00000000000001, 54.0, 55.00000000000001, 60.0, 51.0, 52.0, 57.99999999999999, 68.0, 56.00000000000001, 52.0, 47.0, 56.99999999999999, 42.0, 49.0, 41.0, 90.0, 50.0, 56.00000000000001, 59.0, 64.0, 35.0, 54.0, 48.0, 42.0, 57.99999999999999, 61.0, 51.0, 43.0, 63.0, 40.0, 57.99999999999999, 48.0, 49.0, 53.0, 30.0, 63.0, 48.0, 35.0, 51.0, 45.0, 56.00000000000001, 36.0, 54.0, 61.0, 55.00000000000001, 54.0, 56.99999999999999, 53.0, 44.0, 42.0, 69.0, 31.0, 57.99999999999999, 38.0, 81.0, 52.0, 62.0, 37.0, 40.0, 62.0, 40.0, 47.0, 43.0, 52.0, 51.0, 56.00000000000001, 53.0, 49.0, 45.0, 56.99999999999999, 51.0, 59.0, 56.00000000000001, 52.0, 57.99999999999999, 48.0, 60.0, 43.0, 59.0, 40.0, 51.0, 55.00000000000001, 56.00000000000001, 55.00000000000001, 61.0, 41.0, 44.0, 56.00000000000001, 37.0, 61.0, 34.0, 51.0, 56.99999999999999, 38.0, 64.0, 64.0, 46.0, 56.99999999999999, 60.0, 48.0, 56.00000000000001, 26.0, 56.00000000000001, 80.0, 28.000000000000004, 48.0, 78.0, 44.0, 43.0, 71.0, 47.0, 68.0, 50.0, 53.0, 43.0, 50.0, 33.0, 54.0, 33.0, 54.0, 57.99999999999999, 74.0, 52.0, 57.99999999999999, 72.0, 57.99999999999999, 41.0, 40.0, 57.99999999999999, 57.99999999999999, 57.99999999999999, 41.0, 45.0, 56.00000000000001, 47.0, 49.0, 63.0, 45.0, 36.0, 63.0, 57.99999999999999, 20.0, 41.0, 53.0, 51.0, 35.0, 39.0, 44.0, 35.0, 34.0, 40.0, 47.0, 57.99999999999999, 46.0, 51.0, 39.0, 56.00000000000001, 35.0, 56.00000000000001, 41.0, 56.99999999999999, 24.0, 47.0, 50.0, 47.0, 53.0, 65.0, 75.0, 47.0, 46.0, 39.0, 43.0, 45.0, 54.0, 30.0, 56.00000000000001, 36.0, 54.0, 56.00000000000001, 56.99999999999999, 64.0, 60.0, 60.0, 60.0, 52.0, 52.0, 73.0, 53.0, 55.00000000000001, 41.0, 44.0, 48.0, 60.0, 65.0, 28.999999999999996, 54.0, 53.0, 43.0, 38.0, 56.99999999999999, 59.0, 48.0, 51.0, 49.0, 56.00000000000001, 41.0, 30.0, 48.0, 56.00000000000001, 45.0, 59.0, 56.00000000000001, 51.0, 42.0, 82.0, 56.99999999999999, 51.0, 39.0, 57.99999999999999, 39.0, 36.0, 53.0, 46.0, 41.0, 53.0, 51.0, 53.0, 49.0, 20.0, 55.00000000000001, 53.0, 63.0, 48.0, 52.0, 28.999999999999996, 59.0, 57.99999999999999, 45.0, 55.00000000000001, 65.0, 39.0, 46.0, 56.99999999999999, 39.0, 30.0, 44.0, 61.0, 49.0, 47.0, 54.0, 57.99999999999999, 60.0, 55.00000000000001, 34.0, 53.0, 41.0, 45.0, 50.0, 62.0, 37.0, 59.0, 49.0, 46.0, 56.00000000000001, 44.0, 54.0, 60.0, 47.0, 26.0, 56.99999999999999, 52.0, 57.99999999999999, 39.0, 55.00000000000001, 48.0, 56.99999999999999, 46.0, 51.0, 67.0, 48.0, 50.0, 42.0, 49.0, 62.0, 46.0, 54.0, 51.0, 60.0, 39.0, 35.0, 45.0, 62.0, 49.0, 64.0, 41.0, 37.0, 53.0, 36.0, 42.0, 55.00000000000001, 47.0, 45.0, 59.0, 59.0, 46.0, 35.0, 44.0, 48.0, 59.0, 52.0, 47.0, 49.0, 48.0, 43.0, 56.99999999999999, 71.0, 45.0, 46.0, 43.0, 56.00000000000001, 36.0, 56.00000000000001, 51.0, 48.0, 70.0, 52.0, 63.0, 44.0, 49.0, 56.00000000000001, 41.0, 53.0, 60.0, 59.0, 55.00000000000001, 51.0, 61.0, 43.0, 71.0, 45.0, 56.99999999999999, 65.0, 60.0, 51.0, 41.0, 34.0, 52.0, 43.0, 38.0, 59.0, 50.0, 44.0, 56.00000000000001, 50.0, 39.0, 56.00000000000001, 61.0, 56.99999999999999, 47.0, 62.0, 43.0, 59.0, 69.0, 31.0, 54.0, 41.0, 55.00000000000001, 40.0, 67.0, 59.0, 60.0, 55.00000000000001, 56.99999999999999, 50.0, 42.0, 70.0, 67.0, 32.0, 50.0, 48.0, 32.0, 44.0, 54.0, 50.0, 28.000000000000004, 48.0, 55.00000000000001, 36.0, 42.0, 46.0, 37.0, 34.0, 37.0, 69.0, 56.99999999999999, 63.0, 46.0, 51.0, 39.0, 55.00000000000001, 47.0, 52.0, 54.0, 55.00000000000001, 57.99999999999999, 47.0, 47.0, 45.0, 67.0, 54.0, 59.0, 41.0, 42.0, 50.0, 20.0, 53.0, 50.0, 37.0, 62.0, 37.0, 55.00000000000001, 59.0, 55.00000000000001, 45.0, 60.0, 59.0, 59.0, 47.0, 56.00000000000001, 56.99999999999999, 40.0, 53.0, 49.0, 56.99999999999999, 60.0, 46.0, 56.00000000000001, 49.0, 51.0, 46.0, 46.0, 41.0, 53.0, 56.99999999999999, 55.00000000000001, 36.0, 46.0, 51.0, 45.0, 43.0, 52.0, 51.0, 55.00000000000001, 59.0, 56.00000000000001, 54.0, 53.0, 53.0, 54.0, 57.99999999999999, 50.0, 69.0, 57.99999999999999, 63.0, 49.0, 49.0, 54.0, 56.99999999999999, 35.0, 50.0, 57.99999999999999, 54.0, 60.0, 52.0, 39.0, 34.0, 59.0, 54.0, 50.0, 54.0, 43.0, 38.0, 47.0, 47.0, 47.0, 55.00000000000001, 44.0, 64.0, 48.0, 54.0, 34.0, 23.0, 45.0, 41.0, 61.0, 55.00000000000001, 52.0, 52.0, 53.0, 51.0, 55.00000000000001, 56.00000000000001, 48.0, 46.0, 48.0, 43.0, 54.0, 59.0, 51.0, 42.0, 50.0, 46.0, 50.0, 65.0, 63.0, 35.0, 41.0, 71.0, 65.0, 56.00000000000001, 56.00000000000001, 42.0, 57.99999999999999, 57.99999999999999, 57.99999999999999, 41.0, 30.0, 34.0, 51.0, 52.0, 42.0, 59.0, 62.0, 52.0, 50.0, 54.0, 48.0, 47.0, 51.0, 49.0, 55.00000000000001, 50.0, 56.00000000000001, 59.0, 50.0, 52.0, 49.0, 56.00000000000001, 67.0, 45.0, 54.0, 42.0, 43.0, 47.0, 34.0, 40.0, 49.0, 62.0, 61.0, 49.0, 44.0, 49.0, 50.0, 57.99999999999999, 45.0, 56.00000000000001, 56.99999999999999, 52.0, 56.00000000000001, 40.0, 39.0, 56.99999999999999, 49.0, 60.0, 42.0, 67.0, 37.0, 56.00000000000001, 49.0, 49.0, 50.0, 51.0, 55.00000000000001, 56.00000000000001, 59.0, 48.0, 41.0, 66.0, 53.0, 50.0, 73.0, 50.0, 47.0, 28.999999999999996, 56.00000000000001, 47.0, 52.0, 60.0, 54.0, 41.0, 48.0, 59.0, 45.0, 38.0, 61.0, 33.0, 56.00000000000001, 30.0, 39.0, 45.0, 55.00000000000001, 55.00000000000001, 54.0, 42.0, 34.0, 49.0, 33.0, 12.0, 39.0, 53.0, 53.0, 59.0, 54.0, 67.0, 59.0, 66.0, 61.0, 49.0, 46.0, 52.0, 39.0, 46.0, 70.0, 35.0, 51.0, 53.0, 32.0, 53.0, 43.0, 38.0, 50.0, 49.0, 47.0, 51.0, 44.0, 57.99999999999999, 56.99999999999999, 62.0, 48.0, 51.0, 47.0, 62.0, 36.0, 54.0, 64.0, 50.0, 55.00000000000001, 39.0, 47.0, 42.0, 72.0, 52.0, 51.0, 56.99999999999999, 51.0, 52.0, 49.0, 30.0, 35.0, 46.0, 48.0, 52.0, 47.0, 50.0, 48.0, 64.0, 56.00000000000001, 46.0, 43.0, 54.0, 45.0, 37.0, 53.0, 39.0, 44.0, 52.0, 51.0, 37.0, 48.0, 56.00000000000001, 42.0, 46.0, 64.0, 62.0, 62.0, 60.0, 69.0, 40.0, 31.0, 59.0, 68.0, 56.99999999999999, 46.0, 54.0, 78.0, 50.0, 36.0, 47.0, 47.0, 50.0, 57.99999999999999, 41.0, 56.99999999999999, 56.00000000000001, 61.0, 53.0, 32.0, 63.0, 49.0, 49.0, 43.0, 37.0, 54.0, 54.0, 42.0, 41.0, 59.0, 63.0, 35.0, 54.0, 59.0, 59.0, 69.0, 31.0, 47.0, 44.0, 54.0, 48.0, 48.0, 52.0, 50.0, 48.0, 43.0, 37.0, 63.0, 43.0, 69.0, 52.0, 67.0, 68.0, 43.0, 40.0, 50.0, 55.00000000000001, 56.99999999999999, 40.0, 42.0, 36.0, 59.0, 77.0, 59.0, 46.0, 68.0, 63.0, 39.0, 54.0, 53.0, 45.0, 43.0, 47.0, 43.0, 57.99999999999999, 64.0, 31.0, 53.0, 57.99999999999999, 49.0, 41.0, 46.0, 31.0, 50.0, 45.0, 42.0, 64.0, 37.0, 43.0, 43.0, 25.0, 51.0, 47.0, 52.0, 54.0, 51.0, 45.0, 45.0, 74.0, 51.0, 62.0, 36.0, 54.0, 43.0, 36.0, 70.0, 59.0, 51.0, 44.0, 36.0, 42.0, 62.0, 52.0, 52.0, 64.0, 74.0, 28.999999999999996, 46.0, 49.0, 36.0, 64.0, 39.0]\n"
          ]
        }
      ]
    },
    {
      "cell_type": "code",
      "source": [
        "plt.figure(figsize=(10, 6))\n",
        "sns.violinplot(y=gc_contents_virgin_2, color='skyblue')\n",
        "plt.title('GC Content Distribution for virgin 2')\n",
        "plt.ylabel('GC Content (%)')\n",
        "plt.show()"
      ],
      "metadata": {
        "colab": {
          "base_uri": "https://localhost:8080/",
          "height": 526
        },
        "id": "SUqvIl9Dr38c",
        "outputId": "20b2f369-3dfc-4893-e0da-e8680c7a5858"
      },
      "execution_count": 11,
      "outputs": [
        {
          "output_type": "display_data",
          "data": {
            "text/plain": [
              "<Figure size 1000x600 with 1 Axes>"
            ],
            "image/png": "[encoded data removed]"
          },
          "metadata": {}
        }
      ]
    },
    {
      "cell_type": "markdown",
      "source": [
        "#Sequence Quality score using FastQC"
      ],
      "metadata": {
        "id": "DiaF6Uxm75xf"
      }
    },
    {
      "cell_type": "code",
      "source": [
        "from IPython.display import Image\n",
        "import os\n",
        "current_dir = os.getcwd()\n",
        "\n",
        "file__1 = 'file1.png'\n",
        "image_path = os.path.join(current_dir, file__1)\n",
        "\n",
        "Image(filename=image_path)\n",
        "\n"
      ],
      "metadata": {
        "colab": {
          "base_uri": "https://localhost:8080/",
          "height": 617
        },
        "id": "9FNxc2Nb7YKE",
        "outputId": "0f2f037e-6d76-46e9-e5ba-98c885b164b9"
      },
      "execution_count": 12,
      "outputs": [
        {
          "output_type": "execute_result",
          "data": {
            "image/png": "[encoded data removed]",
            "text/plain": [
              "<IPython.core.display.Image object>"
            ]
          },
          "metadata": {},
          "execution_count": 12
        }
      ]
    },
    {
      "cell_type": "code",
      "source": [
        "current_dir = os.getcwd()\n",
        "\n",
        "file2 = 'd2.png'\n",
        "image_path = os.path.join(current_dir, file2)\n",
        "\n",
        "Image(filename=image_path)"
      ],
      "metadata": {
        "id": "APAmHNzJ7uAz",
        "colab": {
          "base_uri": "https://localhost:8080/",
          "height": 617
        },
        "outputId": "d41cf347-5a89-4899-f934-86bec97c7103"
      },
      "execution_count": 13,
      "outputs": [
        {
          "output_type": "execute_result",
          "data": {
            "image/png": "[encoded data removed]",
            "text/plain": [
              "<IPython.core.display.Image object>"
            ]
          },
          "metadata": {},
          "execution_count": 13
        }
      ]
    },
    {
      "cell_type": "code",
      "source": [],
      "metadata": {
        "id": "q5bcZrgdmSaD"
      },
      "execution_count": 13,
      "outputs": []
    },
    {
      "cell_type": "markdown",
      "source": [
        "Analysis In progress"
      ],
      "metadata": {
        "id": "IORcY1qHmVEj"
      }
    },
    {
      "cell_type": "code",
      "source": [
        "!pip install cutadapt\n"
      ],
      "metadata": {
        "id": "CN_M7TcymYE4",
        "colab": {
          "base_uri": "https://localhost:8080/"
        },
        "outputId": "44b4f22d-018b-4f25-e36e-0ea7c4be108c"
      },
      "execution_count": 14,
      "outputs": [
        {
          "output_type": "stream",
          "name": "stdout",
          "text": [
            "Collecting cutadapt\n",
            "  Downloading cutadapt-4.6-cp310-cp310-manylinux_2_17_x86_64.manylinux2014_x86_64.whl (287 kB)\n",
            "\u001b[2K     \u001b[90m━━━━━━━━━━━━━━━━━━━━━━━━━━━━━━━━━━━━━━━━\u001b[0m \u001b[32m287.2/287.2 kB\u001b[0m \u001b[31m2.1 MB/s\u001b[0m eta \u001b[36m0:00:00\u001b[0m\n",
            "\u001b[?25hCollecting dnaio>=0.10.0 (from cutadapt)\n",
            "  Downloading dnaio-1.2.0-cp310-cp310-manylinux_2_17_x86_64.manylinux2014_x86_64.whl (110 kB)\n",
            "\u001b[2K     \u001b[90m━━━━━━━━━━━━━━━━━━━━━━━━━━━━━━━━━━━━━━━━\u001b[0m \u001b[32m110.8/110.8 kB\u001b[0m \u001b[31m9.8 MB/s\u001b[0m eta \u001b[36m0:00:00\u001b[0m\n",
            "\u001b[?25hCollecting xopen>=1.6.0 (from cutadapt)\n",
            "  Downloading xopen-1.8.0-py3-none-any.whl (16 kB)\n",
            "Collecting isal>=1.4.1 (from xopen>=1.6.0->cutadapt)\n",
            "  Downloading isal-1.5.3-cp310-cp310-manylinux_2_17_x86_64.manylinux2014_x86_64.whl (259 kB)\n",
            "\u001b[2K     \u001b[90m━━━━━━━━━━━━━━━━━━━━━━━━━━━━━━━━━━━━━━━━\u001b[0m \u001b[32m259.9/259.9 kB\u001b[0m \u001b[31m12.1 MB/s\u001b[0m eta \u001b[36m0:00:00\u001b[0m\n",
            "\u001b[?25hInstalling collected packages: isal, xopen, dnaio, cutadapt\n",
            "Successfully installed cutadapt-4.6 dnaio-1.2.0 isal-1.5.3 xopen-1.8.0\n"
          ]
        }
      ]
    },
    {
      "cell_type": "code",
      "source": [
        "import subprocess\n",
        "\n",
        "def trim_reads(input_file, output_file, quality_threshold=20, min_length=50, clip_length=10):\n",
        "    # Build the cutadapt command\n",
        "    cmd = [\n",
        "        'cutadapt',\n",
        "        f'-q {quality_threshold}',\n",
        "        f'--minimum-length {min_length}',\n",
        "        f'--output {output_file}',\n",
        "        input_file\n",
        "    ]\n",
        "\n",
        "\n",
        "    subprocess.run(' '.join(cmd), shell=True)\n",
        "\n",
        "\n",
        "input_file = 'SRR1552444.fastq'\n",
        "output_file = 'trimmed_SRR1552444.fastq'\n",
        "\n",
        "trim_reads(input_file, output_file)\n"
      ],
      "metadata": {
        "id": "qUJhobimekNW"
      },
      "execution_count": 15,
      "outputs": []
    },
    {
      "cell_type": "code",
      "source": [
        "# Install hisat2, samtools, and subread\n",
        "!apt-get -qq install -y hisat2\n",
        "!apt-get -qq install -y samtools\n",
        "!apt-get -qq install -y subread\n",
        "\n",
        "\n",
        "\n"
      ],
      "metadata": {
        "colab": {
          "base_uri": "https://localhost:8080/"
        },
        "id": "LV5UkIl2hegd",
        "outputId": "ee2585a2-d16c-4318-b4a6-666f7fa07106"
      },
      "execution_count": 16,
      "outputs": [
        {
          "output_type": "stream",
          "name": "stdout",
          "text": [
            "Selecting previously unselected package libhtscodecs2:amd64.\n",
            "(Reading database ... 121671 files and directories currently installed.)\n",
            "Preparing to unpack .../0-libhtscodecs2_1.1.1-3_amd64.deb ...\n",
            "Unpacking libhtscodecs2:amd64 (1.1.1-3) ...\n",
            "Selecting previously unselected package libhts3:amd64.\n",
            "Preparing to unpack .../1-libhts3_1.13+ds-2build1_amd64.deb ...\n",
            "Unpacking libhts3:amd64 (1.13+ds-2build1) ...\n",
            "Selecting previously unselected package bcftools.\n",
            "Preparing to unpack .../2-bcftools_1.13-1_amd64.deb ...\n",
            "Unpacking bcftools (1.13-1) ...\n",
            "Selecting previously unselected package hisat2.\n",
            "Preparing to unpack .../3-hisat2_2.2.1-3_amd64.deb ...\n",
            "Unpacking hisat2 (2.2.1-3) ...\n",
            "Selecting previously unselected package python3-hisat2.\n",
            "Preparing to unpack .../4-python3-hisat2_2.2.1-3_all.deb ...\n",
            "Unpacking python3-hisat2 (2.2.1-3) ...\n",
            "Selecting previously unselected package samtools.\n",
            "Preparing to unpack .../5-samtools_1.13-4_amd64.deb ...\n",
            "Unpacking samtools (1.13-4) ...\n",
            "Setting up libhtscodecs2:amd64 (1.1.1-3) ...\n",
            "Setting up libhts3:amd64 (1.13+ds-2build1) ...\n",
            "Setting up bcftools (1.13-1) ...\n",
            "Setting up samtools (1.13-4) ...\n",
            "Setting up hisat2 (2.2.1-3) ...\n",
            "Setting up python3-hisat2 (2.2.1-3) ...\n",
            "Processing triggers for man-db (2.10.2-1) ...\n",
            "Processing triggers for libc-bin (2.35-0ubuntu3.4) ...\n",
            "/sbin/ldconfig.real: /usr/local/lib/libtbbbind_2_5.so.3 is not a symbolic link\n",
            "\n",
            "/sbin/ldconfig.real: /usr/local/lib/libtbbbind_2_0.so.3 is not a symbolic link\n",
            "\n",
            "/sbin/ldconfig.real: /usr/local/lib/libtbb.so.12 is not a symbolic link\n",
            "\n",
            "/sbin/ldconfig.real: /usr/local/lib/libtbbmalloc_proxy.so.2 is not a symbolic link\n",
            "\n",
            "/sbin/ldconfig.real: /usr/local/lib/libtbbbind.so.3 is not a symbolic link\n",
            "\n",
            "/sbin/ldconfig.real: /usr/local/lib/libtbbmalloc.so.2 is not a symbolic link\n",
            "\n",
            "Selecting previously unselected package subread.\n",
            "(Reading database ... 121871 files and directories currently installed.)\n",
            "Preparing to unpack .../subread_2.0.3+dfsg-1_amd64.deb ...\n",
            "Unpacking subread (2.0.3+dfsg-1) ...\n",
            "Setting up subread (2.0.3+dfsg-1) ...\n",
            "Processing triggers for man-db (2.10.2-1) ...\n"
          ]
        }
      ]
    },
    {
      "cell_type": "code",
      "source": [
        "!wget https://ftp.ensembl.org/pub/release-108/fasta/mus_musculus/cdna/Mus_musculus.GRCm39.cdna.all.fa.gz\n"
      ],
      "metadata": {
        "colab": {
          "base_uri": "https://localhost:8080/"
        },
        "id": "9Ok1ct6ztT-9",
        "outputId": "59c98d8d-395a-4842-cb6f-2bed5f9b32cb"
      },
      "execution_count": 17,
      "outputs": [
        {
          "output_type": "stream",
          "name": "stdout",
          "text": [
            "--2024-01-26 22:02:02--  https://ftp.ensembl.org/pub/release-108/fasta/mus_musculus/cdna/Mus_musculus.GRCm39.cdna.all.fa.gz\n",
            "Resolving ftp.ensembl.org (ftp.ensembl.org)... 193.62.193.169\n",
            "Connecting to ftp.ensembl.org (ftp.ensembl.org)|193.62.193.169|:443... connected.\n",
            "HTTP request sent, awaiting response... 200 OK\n",
            "Length: 51060789 (49M) [application/x-gzip]\n",
            "Saving to: ‘Mus_musculus.GRCm39.cdna.all.fa.gz’\n",
            "\n",
            "Mus_musculus.GRCm39 100%[===================>]  48.70M   625KB/s    in 81s     \n",
            "\n",
            "2024-01-26 22:03:23 (618 KB/s) - ‘Mus_musculus.GRCm39.cdna.all.fa.gz’ saved [51060789/51060789]\n",
            "\n"
          ]
        }
      ]
    },
    {
      "cell_type": "code",
      "source": [
        "!gunzip Mus_musculus.GRCm39.cdna.all.fa.gz"
      ],
      "metadata": {
        "id": "9Ka1HmmWt1o0"
      },
      "execution_count": 18,
      "outputs": []
    },
    {
      "cell_type": "code",
      "source": [
        "!hisat2-build Mus_musculus.GRCm39.cdna.all.fa GRCm39_index"
      ],
      "metadata": {
        "colab": {
          "base_uri": "https://localhost:8080/"
        },
        "id": "SNWJDE2238OB",
        "outputId": "aec401df-be05-4483-a0b8-8e5b38ffa8bb"
      },
      "execution_count": 19,
      "outputs": [
        {
          "output_type": "stream",
          "name": "stdout",
          "text": [
            "Settings:\n",
            "  Output files: \"GRCm39_index.*.ht2\"\n",
            "  Line rate: 6 (line is 64 bytes)\n",
            "  Lines per side: 1 (side is 64 bytes)\n",
            "  Offset rate: 4 (one in 16)\n",
            "  FTable chars: 10\n",
            "  Strings: unpacked\n",
            "  Local offset rate: 3 (one in 8)\n",
            "  Local fTable chars: 6\n",
            "  Local sequence length: 57344\n",
            "  Local sequence overlap between two consecutive indexes: 1024\n",
            "  Endianness: little\n",
            "  Actual local endianness: little\n",
            "  Sanity checking: disabled\n",
            "  Assertions: disabled\n",
            "  Random seed: 0\n",
            "  Sizeofs: void*:8, int:4, long:8, size_t:8\n",
            "Input files DNA, FASTA:\n",
            "  Mus_musculus.GRCm39.cdna.all.fa\n",
            "Reading reference sizes\n",
            "  Time reading reference sizes: 00:00:04\n",
            "Calculating joined length\n",
            "Writing header\n",
            "Reserving space for joined string\n",
            "Joining reference sequences\n",
            "  Time to join reference sequences: 00:00:02\n",
            "  Time to read SNPs and splice sites: 00:00:00\n",
            "Using parameters --bmax 40375311 --dcv 1024\n",
            "  Doing ahead-of-time memory usage test\n",
            "  Passed!  Constructing with these parameters: --bmax 40375311 --dcv 1024\n",
            "Constructing suffix-array element generator\n",
            "Building DifferenceCoverSample\n",
            "  Building sPrime\n",
            "  Building sPrimeOrder\n",
            "  V-Sorting samples\n",
            "  V-Sorting samples time: 00:00:14\n",
            "  Allocating rank array\n",
            "  Ranking v-sort output\n",
            "  Ranking v-sort output time: 00:00:02\n",
            "  Invoking Larsson-Sadakane on ranks\n",
            "  Invoking Larsson-Sadakane on ranks time: 00:00:03\n",
            "  Sanity-checking and returning\n",
            "Building samples\n",
            "Reserving space for 12 sample suffixes\n",
            "Generating random suffixes\n",
            "QSorting 12 sample offsets, eliminating duplicates\n",
            "QSorting sample offsets, eliminating duplicates time: 00:00:00\n",
            "Multikey QSorting 12 samples\n",
            "  (Using difference cover)\n",
            "  Multikey QSorting samples time: 00:00:00\n",
            "Calculating bucket sizes\n",
            "Splitting and merging\n",
            "  Splitting and merging time: 00:00:00\n",
            "Split 2, merged 7; iterating...\n",
            "Splitting and merging\n",
            "  Splitting and merging time: 00:00:00\n",
            "Avg bucket size: 2.69169e+07 (target: 40375310)\n",
            "Converting suffix-array elements to index image\n",
            "Allocating ftab, absorbFtab\n",
            "Entering GFM loop\n",
            "Getting block 1 of 8\n",
            "  Reserving size (40375311) for bucket 1\n",
            "  Calculating Z arrays for bucket 1\n",
            "  Entering block accumulator loop for bucket 1:\n",
            "  bucket 1: 10%\n",
            "  bucket 1: 20%\n",
            "  bucket 1: 30%\n",
            "  bucket 1: 40%\n",
            "  bucket 1: 50%\n",
            "  bucket 1: 60%\n",
            "  bucket 1: 70%\n",
            "  bucket 1: 80%\n",
            "  bucket 1: 90%\n",
            "  bucket 1: 100%\n",
            "  Sorting block of length 35449133 for bucket 1\n",
            "  (Using difference cover)\n",
            "  Sorting block time: 00:01:31\n",
            "Returning block of 35449134 for bucket 1\n",
            "Getting block 2 of 8\n",
            "  Reserving size (40375311) for bucket 2\n",
            "  Calculating Z arrays for bucket 2\n",
            "  Entering block accumulator loop for bucket 2:\n",
            "  bucket 2: 10%\n",
            "  bucket 2: 20%\n",
            "  bucket 2: 30%\n",
            "  bucket 2: 40%\n",
            "  bucket 2: 50%\n",
            "  bucket 2: 60%\n",
            "  bucket 2: 70%\n",
            "  bucket 2: 80%\n",
            "  bucket 2: 90%\n",
            "  bucket 2: 100%\n",
            "  Sorting block of length 9807372 for bucket 2\n",
            "  (Using difference cover)\n",
            "  Sorting block time: 00:00:26\n",
            "Returning block of 9807373 for bucket 2\n",
            "Getting block 3 of 8\n",
            "  Reserving size (40375311) for bucket 3\n",
            "  Calculating Z arrays for bucket 3\n",
            "  Entering block accumulator loop for bucket 3:\n",
            "  bucket 3: 10%\n",
            "  bucket 3: 20%\n",
            "  bucket 3: 30%\n",
            "  bucket 3: 40%\n",
            "  bucket 3: 50%\n",
            "  bucket 3: 60%\n",
            "  bucket 3: 70%\n",
            "  bucket 3: 80%\n",
            "  bucket 3: 90%\n",
            "  bucket 3: 100%\n",
            "  Sorting block of length 39425450 for bucket 3\n",
            "  (Using difference cover)\n",
            "  Sorting block time: 00:01:43\n",
            "Returning block of 39425451 for bucket 3\n",
            "Getting block 4 of 8\n",
            "  Reserving size (40375311) for bucket 4\n",
            "  Calculating Z arrays for bucket 4\n",
            "  Entering block accumulator loop for bucket 4:\n",
            "  bucket 4: 10%\n",
            "  bucket 4: 20%\n",
            "  bucket 4: 30%\n",
            "  bucket 4: 40%\n",
            "  bucket 4: 50%\n",
            "  bucket 4: 60%\n",
            "  bucket 4: 70%\n",
            "  bucket 4: 80%\n",
            "  bucket 4: 90%\n",
            "  bucket 4: 100%\n",
            "  Sorting block of length 22743968 for bucket 4\n",
            "  (Using difference cover)\n",
            "  Sorting block time: 00:01:00\n",
            "Returning block of 22743969 for bucket 4\n",
            "Getting block 5 of 8\n",
            "  Reserving size (40375311) for bucket 5\n",
            "  Calculating Z arrays for bucket 5\n",
            "  Entering block accumulator loop for bucket 5:\n",
            "  bucket 5: 10%\n",
            "  bucket 5: 20%\n",
            "  bucket 5: 30%\n",
            "  bucket 5: 40%\n",
            "  bucket 5: 50%\n",
            "  bucket 5: 60%\n",
            "  bucket 5: 70%\n",
            "  bucket 5: 80%\n",
            "  bucket 5: 90%\n",
            "  bucket 5: 100%\n",
            "  Sorting block of length 34234426 for bucket 5\n",
            "  (Using difference cover)\n",
            "  Sorting block time: 00:01:32\n",
            "Returning block of 34234427 for bucket 5\n",
            "Getting block 6 of 8\n",
            "  Reserving size (40375311) for bucket 6\n",
            "  Calculating Z arrays for bucket 6\n",
            "  Entering block accumulator loop for bucket 6:\n",
            "  bucket 6: 10%\n",
            "  bucket 6: 20%\n",
            "  bucket 6: 30%\n",
            "  bucket 6: 40%\n",
            "  bucket 6: 50%\n",
            "  bucket 6: 60%\n",
            "  bucket 6: 70%\n",
            "  bucket 6: 80%\n",
            "  bucket 6: 90%\n",
            "  bucket 6: 100%\n",
            "  Sorting block of length 30603682 for bucket 6\n",
            "  (Using difference cover)\n",
            "  Sorting block time: 00:01:15\n",
            "Returning block of 30603683 for bucket 6\n",
            "Getting block 7 of 8\n",
            "  Reserving size (40375311) for bucket 7\n",
            "  Calculating Z arrays for bucket 7\n",
            "  Entering block accumulator loop for bucket 7:\n",
            "  bucket 7: 10%\n",
            "  bucket 7: 20%\n",
            "  bucket 7: 30%\n",
            "  bucket 7: 40%\n",
            "  bucket 7: 50%\n",
            "  bucket 7: 60%\n",
            "  bucket 7: 70%\n",
            "  bucket 7: 80%\n",
            "  bucket 7: 90%\n",
            "  bucket 7: 100%\n",
            "  Sorting block of length 22454321 for bucket 7\n",
            "  (Using difference cover)\n",
            "  Sorting block time: 00:00:58\n",
            "Returning block of 22454322 for bucket 7\n",
            "Getting block 8 of 8\n",
            "  Reserving size (40375311) for bucket 8\n",
            "  Calculating Z arrays for bucket 8\n",
            "  Entering block accumulator loop for bucket 8:\n",
            "  bucket 8: 10%\n",
            "  bucket 8: 20%\n",
            "  bucket 8: 30%\n",
            "  bucket 8: 40%\n",
            "  bucket 8: 50%\n",
            "  bucket 8: 60%\n",
            "  bucket 8: 70%\n",
            "  bucket 8: 80%\n",
            "  bucket 8: 90%\n",
            "  bucket 8: 100%\n",
            "  Sorting block of length 20616635 for bucket 8\n",
            "  (Using difference cover)\n",
            "  Sorting block time: 00:00:49\n",
            "Returning block of 20616636 for bucket 8\n",
            "Exited GFM loop\n",
            "fchr[A]: 0\n",
            "fchr[C]: 56332512\n",
            "fchr[G]: 108463184\n",
            "fchr[T]: 161550940\n",
            "fchr[$]: 215334994\n",
            "Exiting GFM::buildToDisk()\n",
            "Returning from initFromVector\n",
            "Wrote 108347214 bytes to primary GFM file: GRCm39_index.1.ht2\n",
            "Wrote 53833756 bytes to secondary GFM file: GRCm39_index.2.ht2\n",
            "Re-opening _in1 and _in2 as input streams\n",
            "Returning from GFM constructor\n",
            "Returning from initFromVector\n",
            "Wrote 1032767613 bytes to primary GFM file: GRCm39_index.5.ht2\n",
            "Wrote 53967004 bytes to secondary GFM file: GRCm39_index.6.ht2\n",
            "Re-opening _in5 and _in5 as input streams\n",
            "Returning from HGFM constructor\n",
            "Headers:\n",
            "    len: 215334994\n",
            "    gbwtLen: 215334995\n",
            "    nodes: 215334995\n",
            "    sz: 53833749\n",
            "    gbwtSz: 53833749\n",
            "    lineRate: 6\n",
            "    offRate: 4\n",
            "    offMask: 0xfffffff0\n",
            "    ftabChars: 10\n",
            "    eftabLen: 0\n",
            "    eftabSz: 0\n",
            "    ftabLen: 1048577\n",
            "    ftabSz: 4194308\n",
            "    offsLen: 13458438\n",
            "    offsSz: 53833752\n",
            "    lineSz: 64\n",
            "    sideSz: 64\n",
            "    sideGbwtSz: 48\n",
            "    sideGbwtLen: 192\n",
            "    numSides: 1121537\n",
            "    numLines: 1121537\n",
            "    gbwtTotLen: 71778368\n",
            "    gbwtTotSz: 71778368\n",
            "    reverse: 0\n",
            "    linearFM: Yes\n",
            "Total time for call to driver() for forward index: 00:12:20\n"
          ]
        }
      ]
    },
    {
      "cell_type": "code",
      "source": [
        "!hisat2 -x GRCm39_index -U trimmed_SRR1552444.fastq -S aligned_reads.sam\n",
        "\n"
      ],
      "metadata": {
        "colab": {
          "base_uri": "https://localhost:8080/"
        },
        "id": "ZrIyPUL15tKo",
        "outputId": "c482ed09-6073-400d-8a82-044278c4666c"
      },
      "execution_count": 20,
      "outputs": [
        {
          "output_type": "stream",
          "name": "stdout",
          "text": [
            "992 reads; of these:\n",
            "  992 (100.00%) were unpaired; of these:\n",
            "    151 (15.22%) aligned 0 times\n",
            "    254 (25.60%) aligned exactly 1 time\n",
            "    587 (59.17%) aligned >1 times\n",
            "84.78% overall alignment rate\n"
          ]
        }
      ]
    },
    {
      "cell_type": "code",
      "source": [
        "!apt-get install bedtools\n",
        "!bedtools genomecov -ibam aligned_reads.sorted.bam -bg > coverage.bedgraph"
      ],
      "metadata": {
        "colab": {
          "base_uri": "https://localhost:8080/"
        },
        "id": "bpN0kGLo_84X",
        "outputId": "c706c23c-cea5-4cc4-9d99-1cb7e70cd26d"
      },
      "execution_count": 21,
      "outputs": [
        {
          "output_type": "stream",
          "name": "stdout",
          "text": [
            "Reading package lists... Done\n",
            "Building dependency tree... Done\n",
            "Reading state information... Done\n",
            "The following NEW packages will be installed:\n",
            "  bedtools\n",
            "0 upgraded, 1 newly installed, 0 to remove and 31 not upgraded.\n",
            "Need to get 563 kB of archives.\n",
            "After this operation, 1,548 kB of additional disk space will be used.\n",
            "Get:1 http://archive.ubuntu.com/ubuntu jammy-updates/universe amd64 bedtools amd64 2.30.0+dfsg-2ubuntu0.1 [563 kB]\n",
            "Fetched 563 kB in 1s (564 kB/s)\n",
            "Selecting previously unselected package bedtools.\n",
            "(Reading database ... 121906 files and directories currently installed.)\n",
            "Preparing to unpack .../bedtools_2.30.0+dfsg-2ubuntu0.1_amd64.deb ...\n",
            "Unpacking bedtools (2.30.0+dfsg-2ubuntu0.1) ...\n",
            "Setting up bedtools (2.30.0+dfsg-2ubuntu0.1) ...\n",
            "[E::hts_open_format_impl] Failed to open file aligned_reads.sorted.bam\n",
            "Failed to open BAM file aligned_reads.sorted.bam\n"
          ]
        }
      ]
    },
    {
      "cell_type": "code",
      "source": [
        "!pip install igv-jupyterlab\n",
        "\n"
      ],
      "metadata": {
        "colab": {
          "base_uri": "https://localhost:8080/"
        },
        "id": "vbv0AGyWA8Cb",
        "outputId": "7655c8fc-499f-4e50-f9fc-353a40727288"
      },
      "execution_count": 22,
      "outputs": [
        {
          "output_type": "stream",
          "name": "stdout",
          "text": [
            "Collecting igv-jupyterlab\n",
            "  Downloading igv_jupyterlab-1.0.1-py2.py3-none-any.whl (3.0 MB)\n",
            "\u001b[2K     \u001b[90m━━━━━━━━━━━━━━━━━━━━━━━━━━━━━━━━━━━━━━━━\u001b[0m \u001b[32m3.0/3.0 MB\u001b[0m \u001b[31m9.8 MB/s\u001b[0m eta \u001b[36m0:00:00\u001b[0m\n",
            "\u001b[?25hRequirement already satisfied: ipywidgets>=7.0.0 in /usr/local/lib/python3.10/dist-packages (from igv-jupyterlab) (7.7.1)\n",
            "Requirement already satisfied: typing-extensions in /usr/local/lib/python3.10/dist-packages (from igv-jupyterlab) (4.5.0)\n",
            "Requirement already satisfied: ipykernel>=4.5.1 in /usr/local/lib/python3.10/dist-packages (from ipywidgets>=7.0.0->igv-jupyterlab) (5.5.6)\n",
            "Requirement already satisfied: ipython-genutils~=0.2.0 in /usr/local/lib/python3.10/dist-packages (from ipywidgets>=7.0.0->igv-jupyterlab) (0.2.0)\n",
            "Requirement already satisfied: traitlets>=4.3.1 in /usr/local/lib/python3.10/dist-packages (from ipywidgets>=7.0.0->igv-jupyterlab) (5.7.1)\n",
            "Requirement already satisfied: widgetsnbextension~=3.6.0 in /usr/local/lib/python3.10/dist-packages (from ipywidgets>=7.0.0->igv-jupyterlab) (3.6.6)\n",
            "Requirement already satisfied: ipython>=4.0.0 in /usr/local/lib/python3.10/dist-packages (from ipywidgets>=7.0.0->igv-jupyterlab) (7.34.0)\n",
            "Requirement already satisfied: jupyterlab-widgets>=1.0.0 in /usr/local/lib/python3.10/dist-packages (from ipywidgets>=7.0.0->igv-jupyterlab) (3.0.9)\n",
            "Requirement already satisfied: jupyter-client in /usr/local/lib/python3.10/dist-packages (from ipykernel>=4.5.1->ipywidgets>=7.0.0->igv-jupyterlab) (6.1.12)\n",
            "Requirement already satisfied: tornado>=4.2 in /usr/local/lib/python3.10/dist-packages (from ipykernel>=4.5.1->ipywidgets>=7.0.0->igv-jupyterlab) (6.3.2)\n",
            "Requirement already satisfied: setuptools>=18.5 in /usr/local/lib/python3.10/dist-packages (from ipython>=4.0.0->ipywidgets>=7.0.0->igv-jupyterlab) (67.7.2)\n",
            "Requirement already satisfied: jedi>=0.16 in /usr/local/lib/python3.10/dist-packages (from ipython>=4.0.0->ipywidgets>=7.0.0->igv-jupyterlab) (0.19.1)\n",
            "Requirement already satisfied: decorator in /usr/local/lib/python3.10/dist-packages (from ipython>=4.0.0->ipywidgets>=7.0.0->igv-jupyterlab) (4.4.2)\n",
            "Requirement already satisfied: pickleshare in /usr/local/lib/python3.10/dist-packages (from ipython>=4.0.0->ipywidgets>=7.0.0->igv-jupyterlab) (0.7.5)\n",
            "Requirement already satisfied: prompt-toolkit!=3.0.0,!=3.0.1,<3.1.0,>=2.0.0 in /usr/local/lib/python3.10/dist-packages (from ipython>=4.0.0->ipywidgets>=7.0.0->igv-jupyterlab) (3.0.43)\n",
            "Requirement already satisfied: pygments in /usr/local/lib/python3.10/dist-packages (from ipython>=4.0.0->ipywidgets>=7.0.0->igv-jupyterlab) (2.16.1)\n",
            "Requirement already satisfied: backcall in /usr/local/lib/python3.10/dist-packages (from ipython>=4.0.0->ipywidgets>=7.0.0->igv-jupyterlab) (0.2.0)\n",
            "Requirement already satisfied: matplotlib-inline in /usr/local/lib/python3.10/dist-packages (from ipython>=4.0.0->ipywidgets>=7.0.0->igv-jupyterlab) (0.1.6)\n",
            "Requirement already satisfied: pexpect>4.3 in /usr/local/lib/python3.10/dist-packages (from ipython>=4.0.0->ipywidgets>=7.0.0->igv-jupyterlab) (4.9.0)\n",
            "Requirement already satisfied: notebook>=4.4.1 in /usr/local/lib/python3.10/dist-packages (from widgetsnbextension~=3.6.0->ipywidgets>=7.0.0->igv-jupyterlab) (6.5.5)\n",
            "Requirement already satisfied: parso<0.9.0,>=0.8.3 in /usr/local/lib/python3.10/dist-packages (from jedi>=0.16->ipython>=4.0.0->ipywidgets>=7.0.0->igv-jupyterlab) (0.8.3)\n",
            "Requirement already satisfied: jinja2 in /usr/local/lib/python3.10/dist-packages (from notebook>=4.4.1->widgetsnbextension~=3.6.0->ipywidgets>=7.0.0->igv-jupyterlab) (3.1.3)\n",
            "Requirement already satisfied: pyzmq<25,>=17 in /usr/local/lib/python3.10/dist-packages (from notebook>=4.4.1->widgetsnbextension~=3.6.0->ipywidgets>=7.0.0->igv-jupyterlab) (23.2.1)\n",
            "Requirement already satisfied: argon2-cffi in /usr/local/lib/python3.10/dist-packages (from notebook>=4.4.1->widgetsnbextension~=3.6.0->ipywidgets>=7.0.0->igv-jupyterlab) (23.1.0)\n",
            "Requirement already satisfied: jupyter-core>=4.6.1 in /usr/local/lib/python3.10/dist-packages (from notebook>=4.4.1->widgetsnbextension~=3.6.0->ipywidgets>=7.0.0->igv-jupyterlab) (5.7.1)\n",
            "Requirement already satisfied: nbformat in /usr/local/lib/python3.10/dist-packages (from notebook>=4.4.1->widgetsnbextension~=3.6.0->ipywidgets>=7.0.0->igv-jupyterlab) (5.9.2)\n",
            "Requirement already satisfied: nbconvert>=5 in /usr/local/lib/python3.10/dist-packages (from notebook>=4.4.1->widgetsnbextension~=3.6.0->ipywidgets>=7.0.0->igv-jupyterlab) (6.5.4)\n",
            "Requirement already satisfied: nest-asyncio>=1.5 in /usr/local/lib/python3.10/dist-packages (from notebook>=4.4.1->widgetsnbextension~=3.6.0->ipywidgets>=7.0.0->igv-jupyterlab) (1.6.0)\n",
            "Requirement already satisfied: Send2Trash>=1.8.0 in /usr/local/lib/python3.10/dist-packages (from notebook>=4.4.1->widgetsnbextension~=3.6.0->ipywidgets>=7.0.0->igv-jupyterlab) (1.8.2)\n",
            "Requirement already satisfied: terminado>=0.8.3 in /usr/local/lib/python3.10/dist-packages (from notebook>=4.4.1->widgetsnbextension~=3.6.0->ipywidgets>=7.0.0->igv-jupyterlab) (0.18.0)\n",
            "Requirement already satisfied: prometheus-client in /usr/local/lib/python3.10/dist-packages (from notebook>=4.4.1->widgetsnbextension~=3.6.0->ipywidgets>=7.0.0->igv-jupyterlab) (0.19.0)\n",
            "Requirement already satisfied: nbclassic>=0.4.7 in /usr/local/lib/python3.10/dist-packages (from notebook>=4.4.1->widgetsnbextension~=3.6.0->ipywidgets>=7.0.0->igv-jupyterlab) (1.0.0)\n",
            "Requirement already satisfied: python-dateutil>=2.1 in /usr/local/lib/python3.10/dist-packages (from jupyter-client->ipykernel>=4.5.1->ipywidgets>=7.0.0->igv-jupyterlab) (2.8.2)\n",
            "Requirement already satisfied: ptyprocess>=0.5 in /usr/local/lib/python3.10/dist-packages (from pexpect>4.3->ipython>=4.0.0->ipywidgets>=7.0.0->igv-jupyterlab) (0.7.0)\n",
            "Requirement already satisfied: wcwidth in /usr/local/lib/python3.10/dist-packages (from prompt-toolkit!=3.0.0,!=3.0.1,<3.1.0,>=2.0.0->ipython>=4.0.0->ipywidgets>=7.0.0->igv-jupyterlab) (0.2.13)\n",
            "Requirement already satisfied: platformdirs>=2.5 in /usr/local/lib/python3.10/dist-packages (from jupyter-core>=4.6.1->notebook>=4.4.1->widgetsnbextension~=3.6.0->ipywidgets>=7.0.0->igv-jupyterlab) (4.1.0)\n",
            "Requirement already satisfied: jupyter-server>=1.8 in /usr/local/lib/python3.10/dist-packages (from nbclassic>=0.4.7->notebook>=4.4.1->widgetsnbextension~=3.6.0->ipywidgets>=7.0.0->igv-jupyterlab) (1.24.0)\n",
            "Requirement already satisfied: notebook-shim>=0.2.3 in /usr/local/lib/python3.10/dist-packages (from nbclassic>=0.4.7->notebook>=4.4.1->widgetsnbextension~=3.6.0->ipywidgets>=7.0.0->igv-jupyterlab) (0.2.3)\n",
            "Requirement already satisfied: lxml in /usr/local/lib/python3.10/dist-packages (from nbconvert>=5->notebook>=4.4.1->widgetsnbextension~=3.6.0->ipywidgets>=7.0.0->igv-jupyterlab) (4.9.4)\n",
            "Requirement already satisfied: beautifulsoup4 in /usr/local/lib/python3.10/dist-packages (from nbconvert>=5->notebook>=4.4.1->widgetsnbextension~=3.6.0->ipywidgets>=7.0.0->igv-jupyterlab) (4.11.2)\n",
            "Requirement already satisfied: bleach in /usr/local/lib/python3.10/dist-packages (from nbconvert>=5->notebook>=4.4.1->widgetsnbextension~=3.6.0->ipywidgets>=7.0.0->igv-jupyterlab) (6.1.0)\n",
            "Requirement already satisfied: defusedxml in /usr/local/lib/python3.10/dist-packages (from nbconvert>=5->notebook>=4.4.1->widgetsnbextension~=3.6.0->ipywidgets>=7.0.0->igv-jupyterlab) (0.7.1)\n",
            "Requirement already satisfied: entrypoints>=0.2.2 in /usr/local/lib/python3.10/dist-packages (from nbconvert>=5->notebook>=4.4.1->widgetsnbextension~=3.6.0->ipywidgets>=7.0.0->igv-jupyterlab) (0.4)\n",
            "Requirement already satisfied: jupyterlab-pygments in /usr/local/lib/python3.10/dist-packages (from nbconvert>=5->notebook>=4.4.1->widgetsnbextension~=3.6.0->ipywidgets>=7.0.0->igv-jupyterlab) (0.3.0)\n",
            "Requirement already satisfied: MarkupSafe>=2.0 in /usr/local/lib/python3.10/dist-packages (from nbconvert>=5->notebook>=4.4.1->widgetsnbextension~=3.6.0->ipywidgets>=7.0.0->igv-jupyterlab) (2.1.4)\n",
            "Requirement already satisfied: mistune<2,>=0.8.1 in /usr/local/lib/python3.10/dist-packages (from nbconvert>=5->notebook>=4.4.1->widgetsnbextension~=3.6.0->ipywidgets>=7.0.0->igv-jupyterlab) (0.8.4)\n",
            "Requirement already satisfied: nbclient>=0.5.0 in /usr/local/lib/python3.10/dist-packages (from nbconvert>=5->notebook>=4.4.1->widgetsnbextension~=3.6.0->ipywidgets>=7.0.0->igv-jupyterlab) (0.9.0)\n",
            "Requirement already satisfied: packaging in /usr/local/lib/python3.10/dist-packages (from nbconvert>=5->notebook>=4.4.1->widgetsnbextension~=3.6.0->ipywidgets>=7.0.0->igv-jupyterlab) (23.2)\n",
            "Requirement already satisfied: pandocfilters>=1.4.1 in /usr/local/lib/python3.10/dist-packages (from nbconvert>=5->notebook>=4.4.1->widgetsnbextension~=3.6.0->ipywidgets>=7.0.0->igv-jupyterlab) (1.5.1)\n",
            "Requirement already satisfied: tinycss2 in /usr/local/lib/python3.10/dist-packages (from nbconvert>=5->notebook>=4.4.1->widgetsnbextension~=3.6.0->ipywidgets>=7.0.0->igv-jupyterlab) (1.2.1)\n",
            "Requirement already satisfied: fastjsonschema in /usr/local/lib/python3.10/dist-packages (from nbformat->notebook>=4.4.1->widgetsnbextension~=3.6.0->ipywidgets>=7.0.0->igv-jupyterlab) (2.19.1)\n",
            "Requirement already satisfied: jsonschema>=2.6 in /usr/local/lib/python3.10/dist-packages (from nbformat->notebook>=4.4.1->widgetsnbextension~=3.6.0->ipywidgets>=7.0.0->igv-jupyterlab) (4.19.2)\n",
            "Requirement already satisfied: six>=1.5 in /usr/local/lib/python3.10/dist-packages (from python-dateutil>=2.1->jupyter-client->ipykernel>=4.5.1->ipywidgets>=7.0.0->igv-jupyterlab) (1.16.0)\n",
            "Requirement already satisfied: argon2-cffi-bindings in /usr/local/lib/python3.10/dist-packages (from argon2-cffi->notebook>=4.4.1->widgetsnbextension~=3.6.0->ipywidgets>=7.0.0->igv-jupyterlab) (21.2.0)\n",
            "Requirement already satisfied: attrs>=22.2.0 in /usr/local/lib/python3.10/dist-packages (from jsonschema>=2.6->nbformat->notebook>=4.4.1->widgetsnbextension~=3.6.0->ipywidgets>=7.0.0->igv-jupyterlab) (23.2.0)\n",
            "Requirement already satisfied: jsonschema-specifications>=2023.03.6 in /usr/local/lib/python3.10/dist-packages (from jsonschema>=2.6->nbformat->notebook>=4.4.1->widgetsnbextension~=3.6.0->ipywidgets>=7.0.0->igv-jupyterlab) (2023.12.1)\n",
            "Requirement already satisfied: referencing>=0.28.4 in /usr/local/lib/python3.10/dist-packages (from jsonschema>=2.6->nbformat->notebook>=4.4.1->widgetsnbextension~=3.6.0->ipywidgets>=7.0.0->igv-jupyterlab) (0.32.1)\n",
            "Requirement already satisfied: rpds-py>=0.7.1 in /usr/local/lib/python3.10/dist-packages (from jsonschema>=2.6->nbformat->notebook>=4.4.1->widgetsnbextension~=3.6.0->ipywidgets>=7.0.0->igv-jupyterlab) (0.17.1)\n",
            "Requirement already satisfied: anyio<4,>=3.1.0 in /usr/local/lib/python3.10/dist-packages (from jupyter-server>=1.8->nbclassic>=0.4.7->notebook>=4.4.1->widgetsnbextension~=3.6.0->ipywidgets>=7.0.0->igv-jupyterlab) (3.7.1)\n",
            "Requirement already satisfied: websocket-client in /usr/local/lib/python3.10/dist-packages (from jupyter-server>=1.8->nbclassic>=0.4.7->notebook>=4.4.1->widgetsnbextension~=3.6.0->ipywidgets>=7.0.0->igv-jupyterlab) (1.7.0)\n",
            "Requirement already satisfied: cffi>=1.0.1 in /usr/local/lib/python3.10/dist-packages (from argon2-cffi-bindings->argon2-cffi->notebook>=4.4.1->widgetsnbextension~=3.6.0->ipywidgets>=7.0.0->igv-jupyterlab) (1.16.0)\n",
            "Requirement already satisfied: soupsieve>1.2 in /usr/local/lib/python3.10/dist-packages (from beautifulsoup4->nbconvert>=5->notebook>=4.4.1->widgetsnbextension~=3.6.0->ipywidgets>=7.0.0->igv-jupyterlab) (2.5)\n",
            "Requirement already satisfied: webencodings in /usr/local/lib/python3.10/dist-packages (from bleach->nbconvert>=5->notebook>=4.4.1->widgetsnbextension~=3.6.0->ipywidgets>=7.0.0->igv-jupyterlab) (0.5.1)\n",
            "Requirement already satisfied: idna>=2.8 in /usr/local/lib/python3.10/dist-packages (from anyio<4,>=3.1.0->jupyter-server>=1.8->nbclassic>=0.4.7->notebook>=4.4.1->widgetsnbextension~=3.6.0->ipywidgets>=7.0.0->igv-jupyterlab) (3.6)\n",
            "Requirement already satisfied: sniffio>=1.1 in /usr/local/lib/python3.10/dist-packages (from anyio<4,>=3.1.0->jupyter-server>=1.8->nbclassic>=0.4.7->notebook>=4.4.1->widgetsnbextension~=3.6.0->ipywidgets>=7.0.0->igv-jupyterlab) (1.3.0)\n",
            "Requirement already satisfied: exceptiongroup in /usr/local/lib/python3.10/dist-packages (from anyio<4,>=3.1.0->jupyter-server>=1.8->nbclassic>=0.4.7->notebook>=4.4.1->widgetsnbextension~=3.6.0->ipywidgets>=7.0.0->igv-jupyterlab) (1.2.0)\n",
            "Requirement already satisfied: pycparser in /usr/local/lib/python3.10/dist-packages (from cffi>=1.0.1->argon2-cffi-bindings->argon2-cffi->notebook>=4.4.1->widgetsnbextension~=3.6.0->ipywidgets>=7.0.0->igv-jupyterlab) (2.21)\n",
            "Installing collected packages: igv-jupyterlab\n",
            "Successfully installed igv-jupyterlab-1.0.1\n"
          ]
        }
      ]
    },
    {
      "cell_type": "code",
      "source": [
        "from igv_jupyterlab import IGV\n"
      ],
      "metadata": {
        "id": "bDyiLuNnBLd1"
      },
      "execution_count": 23,
      "outputs": []
    },
    {
      "cell_type": "code",
      "source": [
        "!samtools view -bS aligned_reads.sam > aligned_reads.bam\n"
      ],
      "metadata": {
        "id": "3nKbW7lICEB0"
      },
      "execution_count": 24,
      "outputs": []
    },
    {
      "cell_type": "code",
      "source": [
        "!samtools sort aligned_reads.bam -o aligned_reads.sorted.bam\n"
      ],
      "metadata": {
        "id": "RZSvlEGdCQBE"
      },
      "execution_count": 25,
      "outputs": []
    },
    {
      "cell_type": "code",
      "source": [
        "!samtools sort aligned_reads.bam -o aligned_reads.sorted.bam\n"
      ],
      "metadata": {
        "id": "6oAOo-_OGmpT"
      },
      "execution_count": 26,
      "outputs": []
    },
    {
      "cell_type": "code",
      "source": [
        "!samtools index aligned_reads.sorted.bam"
      ],
      "metadata": {
        "id": "DS-pId1gHr3C"
      },
      "execution_count": 27,
      "outputs": []
    },
    {
      "cell_type": "code",
      "source": [],
      "metadata": {
        "id": "TijHXXQm8SwX"
      },
      "execution_count": null,
      "outputs": []
    },
    {
      "cell_type": "markdown",
      "source": [
        "#Read Feature count\n",
        "\n",
        "> Indented block\n",
        "\n"
      ],
      "metadata": {
        "id": "kAGZOgr78UwH"
      }
    },
    {
      "cell_type": "code",
      "source": [
        "!pip install htseq\n",
        "!pip install pysam"
      ],
      "metadata": {
        "colab": {
          "base_uri": "https://localhost:8080/"
        },
        "id": "-_fICltM8dHv",
        "outputId": "dbe8a441-bd6d-47d9-f714-159a49bf9f93"
      },
      "execution_count": 30,
      "outputs": [
        {
          "output_type": "stream",
          "name": "stdout",
          "text": [
            "Collecting htseq\n",
            "  Downloading HTSeq-2.0.5-cp310-cp310-manylinux_2_17_x86_64.manylinux2014_x86_64.whl (2.0 MB)\n",
            "\u001b[2K     \u001b[90m━━━━━━━━━━━━━━━━━━━━━━━━━━━━━━━━━━━━━━━━\u001b[0m \u001b[32m2.0/2.0 MB\u001b[0m \u001b[31m8.7 MB/s\u001b[0m eta \u001b[36m0:00:00\u001b[0m\n",
            "\u001b[?25hRequirement already satisfied: numpy in /usr/local/lib/python3.10/dist-packages (from htseq) (1.23.5)\n",
            "Collecting pysam (from htseq)\n",
            "  Downloading pysam-0.22.0-cp310-cp310-manylinux_2_28_x86_64.whl (21.9 MB)\n",
            "\u001b[2K     \u001b[90m━━━━━━━━━━━━━━━━━━━━━━━━━━━━━━━━━━━━━━━━\u001b[0m \u001b[32m21.9/21.9 MB\u001b[0m \u001b[31m31.4 MB/s\u001b[0m eta \u001b[36m0:00:00\u001b[0m\n",
            "\u001b[?25hInstalling collected packages: pysam, htseq\n",
            "Successfully installed htseq-2.0.5 pysam-0.22.0\n",
            "Requirement already satisfied: pysam in /usr/local/lib/python3.10/dist-packages (0.22.0)\n"
          ]
        }
      ]
    },
    {
      "cell_type": "code",
      "source": [
        "import subprocess\n",
        "import os\n"
      ],
      "metadata": {
        "id": "qUozCufe8gIf"
      },
      "execution_count": 31,
      "outputs": []
    },
    {
      "cell_type": "code",
      "source": [
        "from google.colab import drive\n",
        "drive.mount('/content/gdrive')"
      ],
      "metadata": {
        "colab": {
          "base_uri": "https://localhost:8080/"
        },
        "id": "NnqAWJG78rMn",
        "outputId": "adeb7a37-a8f3-45a0-fd17-405e480ab0ed"
      },
      "execution_count": 32,
      "outputs": [
        {
          "output_type": "stream",
          "name": "stdout",
          "text": [
            "Mounted at /content/gdrive\n"
          ]
        }
      ]
    },
    {
      "cell_type": "code",
      "source": [
        "os.chdir('/content')"
      ],
      "metadata": {
        "id": "03T_f8oq89m-"
      },
      "execution_count": 35,
      "outputs": []
    },
    {
      "cell_type": "code",
      "source": [
        "\n",
        "cdna_file = '/content/Mus_musculus.GRCm39.cdna.all.fa'\n",
        "\n",
        "# Run featureCounts using the cDNA FASTA file\n",
        "command = f'featureCounts -a {cdna_file} -o feature_counts.txt -p -t exon -g gene_id -T 4 aligned_reads.sam'\n",
        "subprocess.run(command, shell=True)"
      ],
      "metadata": {
        "colab": {
          "base_uri": "https://localhost:8080/"
        },
        "id": "Jlm7ybSh-35N",
        "outputId": "ae651cae-4929-488a-f9c3-6cda40749fa8"
      },
      "execution_count": 41,
      "outputs": [
        {
          "output_type": "execute_result",
          "data": {
            "text/plain": [
              "CompletedProcess(args='featureCounts -a /content/Mus_musculus.GRCm39.cdna.all.fa -o feature_counts.txt -p -t exon -g gene_id -T 4 aligned_reads.sam', returncode=255)"
            ]
          },
          "metadata": {},
          "execution_count": 41
        }
      ]
    },
    {
      "cell_type": "code",
      "source": [
        "result = subprocess.run(command, shell=True, capture_output=True)\n",
        "print(result.stdout.decode())\n",
        "print(result.stderr.decode())"
      ],
      "metadata": {
        "colab": {
          "base_uri": "https://localhost:8080/"
        },
        "id": "btsGuJ15-8Pr",
        "outputId": "c39a361d-c243-41bb-a9a8-3052da68088d"
      },
      "execution_count": 42,
      "outputs": [
        {
          "output_type": "stream",
          "name": "stdout",
          "text": [
            "\n",
            "\n",
            "        ==========     _____ _    _ ____  _____  ______          _____  \n",
            "        =====         / ____| |  | |  _ \\|  __ \\|  ____|   /\\   |  __ \\ \n",
            "          =====      | (___ | |  | | |_) | |__) | |__     /  \\  | |  | |\n",
            "            ====      \\___ \\| |  | |  _ <|  _  /|  __|   / /\\ \\ | |  | |\n",
            "              ====    ____) | |__| | |_) | | \\ \\| |____ / ____ \\| |__| |\n",
            "        ==========   |_____/ \\____/|____/|_|  \\_\\______/_/    \\_\\_____/\n",
            "\t  v2.0.3\n",
            "\n",
            "//========================== featureCounts setting ===========================\\\\\n",
            "||                                                                            ||\n",
            "||             Input files : 1 SAM file                                       ||\n",
            "||                                                                            ||\n",
            "||                           aligned_reads.sam                                ||\n",
            "||                                                                            ||\n",
            "||             Output file : feature_counts.txt                               ||\n",
            "||                 Summary : feature_counts.txt.summary                       ||\n",
            "||              Paired-end : yes                                              ||\n",
            "||        Count read pairs : no                                               ||\n",
            "||              Annotation : Mus_musculus.GRCm39.cdna.all.fa (GTF)            ||\n",
            "||      Dir for temp files : ./                                               ||\n",
            "||                                                                            ||\n",
            "||                 Threads : 4                                                ||\n",
            "||                   Level : meta-feature level                               ||\n",
            "||      Multimapping reads : not counted                                      ||\n",
            "|| Multi-overlapping reads : not counted                                      ||\n",
            "||   Min overlapping bases : 1                                                ||\n",
            "||                                                                            ||\n",
            "\\\\============================================================================//\n",
            "\n",
            "//================================= Running ==================================\\\\\n",
            "||                                                                            ||\n",
            "|| Load annotation file Mus_musculus.GRCm39.cdna.all.fa ...                   ||\n",
            "ERROR: no features were loaded in format GTF. The annotation format can be specified by the '-F' option, and the required feature type can be specified by the '-t' option..\n",
            "\n",
            "\n",
            "\n"
          ]
        }
      ]
    },
    {
      "cell_type": "code",
      "source": [],
      "metadata": {
        "id": "WnB8My1nAkYK"
      },
      "execution_count": null,
      "outputs": []
    },
    {
      "cell_type": "markdown",
      "source": [
        "# Using salmon because ealier technique does not work, it need the reference in .gtf"
      ],
      "metadata": {
        "id": "7HYx9SmbBtTw"
      }
    },
    {
      "cell_type": "code",
      "source": [
        "!pip install salmon"
      ],
      "metadata": {
        "colab": {
          "base_uri": "https://localhost:8080/"
        },
        "id": "V-XduS-lB2wh",
        "outputId": "331f21de-0f86-421d-fff8-fa8e1833c587"
      },
      "execution_count": 43,
      "outputs": [
        {
          "output_type": "stream",
          "name": "stdout",
          "text": [
            "Collecting salmon\n",
            "  Downloading salmon-0.2.0-py2.py3-none-any.whl (278 kB)\n",
            "\u001b[2K     \u001b[90m━━━━━━━━━━━━━━━━━━━━━━━━━━━━━━━━━━━━━━━━\u001b[0m \u001b[32m278.1/278.1 kB\u001b[0m \u001b[31m2.5 MB/s\u001b[0m eta \u001b[36m0:00:00\u001b[0m\n",
            "\u001b[?25hCollecting django==1.6.1 (from salmon)\n",
            "  Downloading Django-1.6.1-py2.py3-none-any.whl (6.7 MB)\n",
            "\u001b[2K     \u001b[90m━━━━━━━━━━━━━━━━━━━━━━━━━━━━━━━━━━━━━━━━\u001b[0m \u001b[32m6.7/6.7 MB\u001b[0m \u001b[31m36.2 MB/s\u001b[0m eta \u001b[36m0:00:00\u001b[0m\n",
            "\u001b[?25hCollecting djangorestframework==2.3.9 (from salmon)\n",
            "  Downloading djangorestframework-2.3.9.tar.gz (238 kB)\n",
            "\u001b[2K     \u001b[90m━━━━━━━━━━━━━━━━━━━━━━━━━━━━━━━━━━━━━━━━\u001b[0m \u001b[32m238.1/238.1 kB\u001b[0m \u001b[31m24.3 MB/s\u001b[0m eta \u001b[36m0:00:00\u001b[0m\n",
            "\u001b[?25h  Preparing metadata (setup.py) ... \u001b[?25l\u001b[?25hdone\n",
            "Collecting South==0.8.3 (from salmon)\n",
            "  Downloading South-0.8.3-py2.py3-none-any.whl (135 kB)\n",
            "\u001b[2K     \u001b[90m━━━━━━━━━━━━━━━━━━━━━━━━━━━━━━━━━━━━━━━━\u001b[0m \u001b[32m135.7/135.7 kB\u001b[0m \u001b[31m15.0 MB/s\u001b[0m eta \u001b[36m0:00:00\u001b[0m\n",
            "\u001b[?25hCollecting logan==0.5.9.1 (from salmon)\n",
            "  Downloading logan-0.5.9.1.tar.gz (6.6 kB)\n",
            "  Preparing metadata (setup.py) ... \u001b[?25l\u001b[?25hdone\n",
            "Collecting gunicorn==18.0 (from salmon)\n",
            "  Downloading gunicorn-18.0-py33-none-any.whl (93 kB)\n",
            "\u001b[2K     \u001b[90m━━━━━━━━━━━━━━━━━━━━━━━━━━━━━━━━━━━━━━━━\u001b[0m \u001b[32m93.7/93.7 kB\u001b[0m \u001b[31m10.6 MB/s\u001b[0m eta \u001b[36m0:00:00\u001b[0m\n",
            "\u001b[?25hCollecting whisper==0.9.10 (from salmon)\n",
            "  Downloading whisper-0.9.10.tar.gz (10 kB)\n",
            "  Preparing metadata (setup.py) ... \u001b[?25l\u001b[?25hdone\n",
            "Collecting dj-static==0.0.5 (from salmon)\n",
            "  Downloading dj-static-0.0.5.tar.gz (2.2 kB)\n",
            "  Preparing metadata (setup.py) ... \u001b[?25l\u001b[?25hdone\n",
            "Requirement already satisfied: pytz in /usr/local/lib/python3.10/dist-packages (from salmon) (2023.3.post1)\n",
            "Collecting static (from dj-static==0.0.5->salmon)\n",
            "  Downloading static-1.1.1.tar.gz (5.8 kB)\n",
            "  Preparing metadata (setup.py) ... \u001b[?25l\u001b[?25hdone\n",
            "Collecting pystache (from static->dj-static==0.0.5->salmon)\n",
            "  Downloading pystache-0.6.5-py3-none-any.whl (81 kB)\n",
            "\u001b[2K     \u001b[90m━━━━━━━━━━━━━━━━━━━━━━━━━━━━━━━━━━━━━━━━\u001b[0m \u001b[32m81.3/81.3 kB\u001b[0m \u001b[31m9.7 MB/s\u001b[0m eta \u001b[36m0:00:00\u001b[0m\n",
            "\u001b[?25hBuilding wheels for collected packages: dj-static, djangorestframework, logan, whisper, static\n",
            "  Building wheel for dj-static (setup.py) ... \u001b[?25l\u001b[?25hdone\n",
            "  Created wheel for dj-static: filename=dj_static-0.0.5-py3-none-any.whl size=2460 sha256=1b01690749e7dbd6a57b418c85967f40ecb4017bece362f1ed7fe284e10d4d38\n",
            "  Stored in directory: /root/.cache/pip/wheels/67/e9/93/984cad09126ff74318fb6d2bb76483c2414b4b716b84a92e42\n",
            "  Building wheel for djangorestframework (setup.py) ... \u001b[?25l\u001b[?25hdone\n",
            "  Created wheel for djangorestframework: filename=djangorestframework-2.3.9-py3-none-any.whl size=278602 sha256=ae889a9e7e7e1090d7ad6b7e7ac9eb08e440e26a607de74098d4a758d92eb7cf\n",
            "  Stored in directory: /root/.cache/pip/wheels/e1/f9/8b/cd7294621841950ce043f3c808341d0ca5bd9ee63a8ca62c05\n",
            "  Building wheel for logan (setup.py) ... \u001b[?25l\u001b[?25hdone\n",
            "  Created wheel for logan: filename=logan-0.5.9.1-py3-none-any.whl size=6032 sha256=5fed983382b02c5627ba365569a14570317fe1243917e7044441d4252d190156\n",
            "  Stored in directory: /root/.cache/pip/wheels/65/2c/7c/67e1d7be55fa0b14af9b82bcba050f5fdfc39f432b8ef2eb19\n",
            "  Building wheel for whisper (setup.py) ... \u001b[?25l\u001b[?25hdone\n",
            "  Created wheel for whisper: filename=whisper-0.9.10-py3-none-any.whl size=15379 sha256=83d03cdca3742dc8be74ec99567601a692b9fd01f1ba725c03340c4f61548639\n",
            "  Stored in directory: /root/.cache/pip/wheels/bc/94/a9/e51d6951c7fefbabbab262fea45faeab386064f744cde8eb9a\n",
            "  Building wheel for static (setup.py) ... \u001b[?25l\u001b[?25hdone\n",
            "  Created wheel for static: filename=static-1.1.1-py3-none-any.whl size=6417 sha256=e112ecd6cf138f9c7d7956e9e8f8bb7d7ab9d7050a155a2e6a7446fde8a78667\n",
            "  Stored in directory: /root/.cache/pip/wheels/f4/5c/da/224dfd567e9fa4797450fd737e1fe0b23b2ca43efc5cb9e12b\n",
            "Successfully built dj-static djangorestframework logan whisper static\n",
            "Installing collected packages: whisper, South, logan, gunicorn, djangorestframework, django, pystache, static, dj-static, salmon\n",
            "Successfully installed South-0.8.3 dj-static-0.0.5 django-1.6.1 djangorestframework-2.3.9 gunicorn-18.0 logan-0.5.9.1 pystache-0.6.5 salmon-0.2.0 static-1.1.1 whisper-0.9.10\n"
          ]
        }
      ]
    },
    {
      "cell_type": "code",
      "source": [
        "!!salmon index -t Mus_musculus.GRCm39.cdna.all.fa -i salmon_index\n"
      ],
      "metadata": {
        "colab": {
          "base_uri": "https://localhost:8080/"
        },
        "id": "jfwed6UFMLvN",
        "outputId": "736ea247-8459-4cc7-d978-d68ea1d84a32"
      },
      "execution_count": 55,
      "outputs": [
        {
          "output_type": "execute_result",
          "data": {
            "text/plain": [
              "['Traceback (most recent call last):',\n",
              " '  File \"/usr/local/bin/salmon\", line 5, in <module>',\n",
              " '    from salmon.core.runner import main',\n",
              " '  File \"/usr/local/lib/python3.10/dist-packages/salmon/core/runner.py\", line 5, in <module>',\n",
              " '    from logan.runner import run_app, parse_args, configure_app as logan_configure',\n",
              " '  File \"/usr/local/lib/python3.10/dist-packages/logan/runner.py\", line 129',\n",
              " '    print \"usage: %s [--config=/path/to/settings.py] [command] [options]\" % runner_name',\n",
              " '    ^^^^^^^^^^^^^^^^^^^^^^^^^^^^^^^^^^^^^^^^^^^^^^^^^^^^^^^^^^^^^^^^^^^^^^^^^^^^^^^^^^^',\n",
              " \"SyntaxError: Missing parentheses in call to 'print'. Did you mean print(...)?\"]"
            ]
          },
          "metadata": {},
          "execution_count": 55
        }
      ]
    },
    {
      "cell_type": "code",
      "source": [],
      "metadata": {
        "id": "N0MrSJodMUeF"
      },
      "execution_count": null,
      "outputs": []
    },
    {
      "cell_type": "markdown",
      "source": [
        "#Using Kallisto"
      ],
      "metadata": {
        "id": "RCgUylyxMjrt"
      }
    },
    {
      "cell_type": "code",
      "source": [
        "!pip install kallisto"
      ],
      "metadata": {
        "colab": {
          "base_uri": "https://localhost:8080/"
        },
        "id": "MlxAHScWSS92",
        "outputId": "6c2e8d05-1ac9-4240-b328-b6fae9f24b92"
      },
      "execution_count": 60,
      "outputs": [
        {
          "output_type": "stream",
          "name": "stdout",
          "text": [
            "Collecting kallisto\n",
            "  Using cached kallisto-1.0.10-py3-none-any.whl (104 kB)\n",
            "Requirement already satisfied: click<9.0.0,>=8.0.0 in /usr/local/lib/python3.10/dist-packages (from kallisto) (8.1.7)\n",
            "Requirement already satisfied: numpy<2.0.0,>=1.19.0 in /usr/local/lib/python3.10/dist-packages (from kallisto) (1.23.5)\n",
            "Requirement already satisfied: scipy<2.0.0,>=1.10.0 in /usr/local/lib/python3.10/dist-packages (from kallisto) (1.10.1)\n",
            "Installing collected packages: kallisto\n",
            "Successfully installed kallisto-1.0.10\n"
          ]
        }
      ]
    },
    {
      "cell_type": "code",
      "source": [
        "!kallisto index -t Mus_musculus.GRCm39.cdna.all.fa -i GRCm39_index\n"
      ],
      "metadata": {
        "colab": {
          "base_uri": "https://localhost:8080/"
        },
        "id": "WzAj3SVtSpJ2",
        "outputId": "a9d81348-16fd-4400-eaa8-23ad76966262"
      },
      "execution_count": 62,
      "outputs": [
        {
          "output_type": "stream",
          "name": "stdout",
          "text": [
            "Usage: kallisto [OPTIONS] COMMAND1 [ARGS]... [COMMAND2 [ARGS]...]...\n",
            "Try 'kallisto --help' for help.\n",
            "\n",
            "Error: No such command 'index'.\n"
          ]
        }
      ]
    },
    {
      "cell_type": "code",
      "source": [],
      "metadata": {
        "id": "7E1RxiyfSwh-"
      },
      "execution_count": null,
      "outputs": []
    }
  ]
}